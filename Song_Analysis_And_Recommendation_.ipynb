{
  "cells": [
    {
      "cell_type": "markdown",
      "metadata": {
        "id": "view-in-github",
        "colab_type": "text"
      },
      "source": [
        "<a href=\"https://colab.research.google.com/github/RhuthuHegde/Song-Data-Analysis--Big-Data-Project/blob/master/Song_Analysis_And_Recommendation_.ipynb\" target=\"_parent\"><img src=\"https://colab.research.google.com/assets/colab-badge.svg\" alt=\"Open In Colab\"/></a>"
      ]
    },
    {
      "cell_type": "code",
      "execution_count": null,
      "id": "relevant-minneapolis",
      "metadata": {
        "id": "relevant-minneapolis",
        "outputId": "4ba350a5-feb9-4712-8b11-51d97e815ef5",
        "colab": {
          "base_uri": "https://localhost:8080/"
        }
      },
      "outputs": [
        {
          "output_type": "stream",
          "name": "stdout",
          "text": [
            "Collecting pyspark\n",
            "  Downloading pyspark-3.2.1.tar.gz (281.4 MB)\n",
            "\u001b[K     |████████████████████████████████| 281.4 MB 36 kB/s \n",
            "\u001b[?25hCollecting py4j==0.10.9.3\n",
            "  Downloading py4j-0.10.9.3-py2.py3-none-any.whl (198 kB)\n",
            "\u001b[K     |████████████████████████████████| 198 kB 53.5 MB/s \n",
            "\u001b[?25hBuilding wheels for collected packages: pyspark\n",
            "  Building wheel for pyspark (setup.py) ... \u001b[?25l\u001b[?25hdone\n",
            "  Created wheel for pyspark: filename=pyspark-3.2.1-py2.py3-none-any.whl size=281853642 sha256=dd2e2df320ac171670703b8c467303e5763e3690e94e182f4e425c450897f9cd\n",
            "  Stored in directory: /root/.cache/pip/wheels/9f/f5/07/7cd8017084dce4e93e84e92efd1e1d5334db05f2e83bcef74f\n",
            "Successfully built pyspark\n",
            "Installing collected packages: py4j, pyspark\n",
            "Successfully installed py4j-0.10.9.3 pyspark-3.2.1\n",
            "Requirement already satisfied: seaborn in /usr/local/lib/python3.7/dist-packages (0.11.2)\n",
            "Requirement already satisfied: numpy>=1.15 in /usr/local/lib/python3.7/dist-packages (from seaborn) (1.19.5)\n",
            "Requirement already satisfied: scipy>=1.0 in /usr/local/lib/python3.7/dist-packages (from seaborn) (1.4.1)\n",
            "Requirement already satisfied: matplotlib>=2.2 in /usr/local/lib/python3.7/dist-packages (from seaborn) (3.2.2)\n",
            "Requirement already satisfied: pandas>=0.23 in /usr/local/lib/python3.7/dist-packages (from seaborn) (1.3.5)\n",
            "Requirement already satisfied: python-dateutil>=2.1 in /usr/local/lib/python3.7/dist-packages (from matplotlib>=2.2->seaborn) (2.8.2)\n",
            "Requirement already satisfied: cycler>=0.10 in /usr/local/lib/python3.7/dist-packages (from matplotlib>=2.2->seaborn) (0.11.0)\n",
            "Requirement already satisfied: pyparsing!=2.0.4,!=2.1.2,!=2.1.6,>=2.0.1 in /usr/local/lib/python3.7/dist-packages (from matplotlib>=2.2->seaborn) (3.0.7)\n",
            "Requirement already satisfied: kiwisolver>=1.0.1 in /usr/local/lib/python3.7/dist-packages (from matplotlib>=2.2->seaborn) (1.3.2)\n",
            "Requirement already satisfied: pytz>=2017.3 in /usr/local/lib/python3.7/dist-packages (from pandas>=0.23->seaborn) (2018.9)\n",
            "Requirement already satisfied: six>=1.5 in /usr/local/lib/python3.7/dist-packages (from python-dateutil>=2.1->matplotlib>=2.2->seaborn) (1.15.0)\n"
          ]
        }
      ],
      "source": [
        "import sys\n",
        "!{sys.executable} -m pip install pyspark\n",
        "!{sys.executable} -m pip install seaborn"
      ]
    },
    {
      "cell_type": "code",
      "source": [
        "!apt-get install openjdk-8-jdk-headless -qq > /dev/null\n",
        "!wget -q https://archive.apache.org/dist/spark/spark-3.0.0/spark-3.0.0-bin-hadoop3.2.tgz\n",
        "!tar xf spark-3.0.0-bin-hadoop3.2.tgz\n",
        "!pip install -q findspark\n"
      ],
      "metadata": {
        "id": "osnw8UeTK7O7"
      },
      "id": "osnw8UeTK7O7",
      "execution_count": null,
      "outputs": []
    },
    {
      "cell_type": "code",
      "source": [
        "!pip install pyspark\n",
        "import os\n",
        "os.environ[\"JAVA_HOME\"] = \"/usr/lib/jvm/java-8-openjdk-amd64\"\n",
        "os.environ[\"SPARK_HOME\"] = \"/content/spark-3.0.0-bin-hadoop3.2\"\n"
      ],
      "metadata": {
        "colab": {
          "base_uri": "https://localhost:8080/"
        },
        "id": "tJyp1hqWLRLB",
        "outputId": "ad026fb6-c614-4fd8-e2ab-e626fc6c8a38"
      },
      "id": "tJyp1hqWLRLB",
      "execution_count": null,
      "outputs": [
        {
          "output_type": "stream",
          "name": "stdout",
          "text": [
            "Requirement already satisfied: pyspark in /usr/local/lib/python3.7/dist-packages (3.2.1)\n",
            "Requirement already satisfied: py4j==0.10.9.3 in /usr/local/lib/python3.7/dist-packages (from pyspark) (0.10.9.3)\n"
          ]
        }
      ]
    },
    {
      "cell_type": "code",
      "source": [
        "import findspark\n",
        "findspark.init()\n",
        "findspark.find()"
      ],
      "metadata": {
        "colab": {
          "base_uri": "https://localhost:8080/",
          "height": 36
        },
        "id": "FuXL098gLg2m",
        "outputId": "c7402e9a-6711-448d-fdbf-36ea4d9db8e5"
      },
      "id": "FuXL098gLg2m",
      "execution_count": null,
      "outputs": [
        {
          "output_type": "execute_result",
          "data": {
            "application/vnd.google.colaboratory.intrinsic+json": {
              "type": "string"
            },
            "text/plain": [
              "'/usr/local/lib/python3.7/dist-packages/pyspark'"
            ]
          },
          "metadata": {},
          "execution_count": 4
        }
      ]
    },
    {
      "cell_type": "code",
      "execution_count": null,
      "id": "demanding-selection",
      "metadata": {
        "id": "demanding-selection"
      },
      "outputs": [],
      "source": [
        "import numpy as np\n",
        "import pandas as pd\n",
        "import os\n",
        "import seaborn as sns"
      ]
    },
    {
      "cell_type": "code",
      "execution_count": null,
      "id": "bizarre-deadline",
      "metadata": {
        "id": "bizarre-deadline"
      },
      "outputs": [],
      "source": [
        "import pyspark\n",
        "from pyspark import SparkConf,SparkContext\n",
        "from pyspark.sql import SparkSession, SQLContext\n",
        "from pyspark.sql.types import *\n",
        "import pyspark.sql.functions as F\n",
        "import pyspark.sql.functions as f\n",
        "from pyspark.sql.functions import udf,col\n",
        "import plotly.express as px\n",
        "data = '/content/sample_data/Final database.csv'\n"
      ]
    },
    {
      "cell_type": "code",
      "execution_count": null,
      "id": "preliminary-statistics",
      "metadata": {
        "colab": {
          "base_uri": "https://localhost:8080/",
          "height": 222
        },
        "id": "preliminary-statistics",
        "outputId": "03d786be-c070-428e-d031-05aca71f0064"
      },
      "outputs": [
        {
          "output_type": "execute_result",
          "data": {
            "text/html": [
              "\n",
              "            <div>\n",
              "                <p><b>SparkSession - in-memory</b></p>\n",
              "                \n",
              "        <div>\n",
              "            <p><b>SparkContext</b></p>\n",
              "\n",
              "            <p><a href=\"http://1c7df32e6dec:4040\">Spark UI</a></p>\n",
              "\n",
              "            <dl>\n",
              "              <dt>Version</dt>\n",
              "                <dd><code>v3.2.1</code></dd>\n",
              "              <dt>Master</dt>\n",
              "                <dd><code>local</code></dd>\n",
              "              <dt>AppName</dt>\n",
              "                <dd><code>Music-Data-Analysis</code></dd>\n",
              "            </dl>\n",
              "        </div>\n",
              "        \n",
              "            </div>\n",
              "        "
            ],
            "text/plain": [
              "<pyspark.sql.session.SparkSession at 0x7f34d1915fd0>"
            ]
          },
          "metadata": {},
          "execution_count": 7
        }
      ],
      "source": [
        "spark = SparkSession.builder.master(\"local\").appName(\"Music-Data-Analysis\").getOrCreate()\n",
        "spark"
      ]
    },
    {
      "cell_type": "code",
      "source": [
        "# df = spark.read.csv(data, header=True, inferSchema=True)"
      ],
      "metadata": {
        "id": "OL5glgCCMeu9"
      },
      "id": "OL5glgCCMeu9",
      "execution_count": null,
      "outputs": []
    },
    {
      "cell_type": "code",
      "execution_count": null,
      "id": "palestinian-lafayette",
      "metadata": {
        "id": "palestinian-lafayette",
        "colab": {
          "base_uri": "https://localhost:8080/"
        },
        "outputId": "2c1594b6-ae35-49a4-de03-ccd98684a5f8"
      },
      "outputs": [
        {
          "output_type": "stream",
          "name": "stderr",
          "text": [
            "/usr/local/lib/python3.7/dist-packages/pyspark/sql/context.py:79: FutureWarning: Deprecated in 3.0.0. Use SparkSession.builder.getOrCreate() instead.\n",
            "  FutureWarning\n"
          ]
        }
      ],
      "source": [
        "sc = spark.sparkContext\n",
        "sqlContext = SQLContext(sc)"
      ]
    },
    {
      "cell_type": "code",
      "execution_count": null,
      "id": "handmade-hawaii",
      "metadata": {
        "colab": {
          "base_uri": "https://localhost:8080/"
        },
        "id": "handmade-hawaii",
        "outputId": "6abc8a46-45b2-434f-c97a-b25bc5f8e900"
      },
      "outputs": [
        {
          "output_type": "execute_result",
          "data": {
            "text/plain": [
              "<bound method DataFrame.printSchema of DataFrame[Country0: string, Uri: string, Popularity: string, Title: string, Artist: string, Album/Single: string, Genre: string, Artist_followers: string, Explicit: string, Album9: string, Release_date: string, Track_number: string, Tracks_in_album: string, danceability: string, energy: string, key: string, loudness: string, mode: string, speechiness: string, acoustics: string, instrumentalness: string, liveliness: string, valence: string, tempo: string, duration_ms: string, time_signature: string, Genre_new: string, Days_since_release: string, Released_after_2017: string, Explicit_false: string, Explicit_true: string, album31: string, compilation: string, single: string, bolero: string, boy band: string, country36: string, dance/electronic: string, else: string, funk: string, hip hop: string, house: string, indie: string, jazz: string, k-pop: string, latin: string, metal: string, opm: string, pop: string, r&b/soul: string, rap: string, reggae: string, reggaeton: string, rock: string, trap: string, syuzhet_norm: string, bing_norm: string, afinn_norm: string, nrc_norm: string, syuzhet: string, bing: string, afinn: string, nrc: string, anger: string, anticipation: string, disgust: string, fear: string, joy: string, sadness: string, surprise: string, trust: string, negative: string, positive: string, n_words: string, anger_norm: string, anticipation_norm: string, disgust_norm: string, fear_norm: string, joy_norm: string, sadness_norm: string, surprise_norm: string, trust_norm: string, negative_norm: string, positive_norm: string, anger_norm2: string, anticipation_norm2: string, disgust_norm2: string, fear_norm2: string, joy_norm2: string, sadness_norm2: string, surprise_norm2: string, trust_norm2: string, negative_norm2: string, positive_norm2: string, negative_bog_jr: string, positive_bog_jr: string, Bayes: string, Negative_Bayes: string, Neutral_Bayes: string, Positive_Bayes: string, LDA_Topic: string, Celebrate: string, Desire: string, Explore: string, Fun: string, Hope: string, Love: string, Nostalgia: string, Thug: string, bing_norm_negative: string, bing_norm_neutral: string, bing_norm_positive: string, Argentina: string, Australia: string, Austria: string, Belgium: string, Brazil: string, Canada: string, Chile: string, Colombia: string, Costa Rica: string, Denmark: string, Ecuador: string, Finland: string, France: string, Germany: string, Global: string, Indonesia: string, Ireland: string, Italy: string, Malaysia: string, Mexico: string, Netherlands: string, New Zealand: string, Norway: string, Peru: string, Philippines: string, Poland: string, Portugal: string, Singapore: string, Spain: string, Sweden: string, Switzerland: string, Taiwan: string, Turkey: string, UK: string, USA: string, Popu_max: string, Top10_dummy: string, Top50_dummy: string, Cluster: string]>"
            ]
          },
          "metadata": {},
          "execution_count": 9
        }
      ],
      "source": [
        "df = spark.read.option(\"header\",True).csv(data)\n",
        "to_drop=['syuzhet_norm', 'bing_norm', 'afinn_norm', 'nrc_norm', 'syuzhet', 'bing'] \n",
        "for c in to_drop:\n",
        "    df.drop(c).collect()\n",
        "df.printSchema"
      ]
    },
    {
      "cell_type": "code",
      "execution_count": null,
      "id": "spread-script",
      "metadata": {
        "id": "spread-script"
      },
      "outputs": [],
      "source": [
        "numerical_features = ['danceability', 'energy', 'instrumentalness', 'valence', 'liveliness', 'speechiness', 'acoustics',\n",
        "                      'speechiness', 'acoustics', 'instrumentalness', 'liveliness', 'valence', 'tempo', 'duration_ms', \n",
        "                      'time_signature', 'Days_since_release', 'n_words']\n",
        "for c in numerical_features:\n",
        "    df = df.withColumn(c, df[c].cast(\"float\"))"
      ]
    },
    {
      "cell_type": "markdown",
      "id": "attempted-statement",
      "metadata": {
        "id": "attempted-statement"
      },
      "source": [
        "#### Popular Artist"
      ]
    },
    {
      "cell_type": "code",
      "source": [
        "df.head(10)"
      ],
      "metadata": {
        "colab": {
          "base_uri": "https://localhost:8080/"
        },
        "id": "jCeJR3KcN2_V",
        "outputId": "65a7b0bf-b55e-41ee-e8bc-423f313e064f"
      },
      "id": "jCeJR3KcN2_V",
      "execution_count": null,
      "outputs": [
        {
          "output_type": "execute_result",
          "data": {
            "text/plain": [
              "[Row(Country0='Global', Uri='https://open.spotify.com/track/6FyRXC8tJUh863JCkyWqtk', Popularity='31833.95', Title='adan y eva', Artist='Paulo Londra', Album/Single='single', Genre='argentine hip hop', Artist_followers='11427104', Explicit='FALSE', Album9='Adan y Eva', Release_date='05-11-2018', Track_number='1', Tracks_in_album='1', danceability=0.7670000195503235, energy=0.7089999914169312, key='1', loudness='-4.47', mode='1', speechiness=0.335999995470047, acoustics=0.3230000138282776, instrumentalness=0.0, liveliness=0.06759999692440033, valence=0.7200000286102295, tempo=171.9929962158203, duration_ms=258639.0, time_signature=4.0, Genre_new='hip hop', Days_since_release=740.0, Released_after_2017='1', Explicit_false='1', Explicit_true='0', album31='0', compilation='0', single='1', bolero='0', boy band='0', country36='0', dance/electronic='0', else='0', funk='0', hip hop='1', house='0', indie='0', jazz='0', k-pop='0', latin='0', metal='0', opm='0', pop='0', r&b/soul='0', rap='0', reggae='0', reggaeton='0', rock='0', trap='0', syuzhet_norm=None, bing_norm=None, afinn_norm=None, nrc_norm=None, syuzhet=None, bing=None, afinn=None, nrc=None, anger=None, anticipation=None, disgust=None, fear=None, joy=None, sadness=None, surprise=None, trust=None, negative=None, positive=None, n_words=None, anger_norm=None, anticipation_norm=None, disgust_norm=None, fear_norm=None, joy_norm=None, sadness_norm=None, surprise_norm=None, trust_norm=None, negative_norm=None, positive_norm=None, anger_norm2=None, anticipation_norm2=None, disgust_norm2=None, fear_norm2=None, joy_norm2=None, sadness_norm2=None, surprise_norm2=None, trust_norm2=None, negative_norm2=None, positive_norm2=None, negative_bog_jr=None, positive_bog_jr=None, Bayes=None, Negative_Bayes=None, Neutral_Bayes=None, Positive_Bayes=None, LDA_Topic=None, Celebrate=None, Desire=None, Explore=None, Fun=None, Hope=None, Love=None, Nostalgia=None, Thug=None, bing_norm_negative='0', bing_norm_neutral='0', bing_norm_positive='0', Argentina='0', Australia='0', Austria='0', Belgium='0', Brazil='0', Canada='0', Chile='0', Colombia='0', Costa Rica='0', Denmark='0', Ecuador='0', Finland='0', France='0', Germany='0', Global='1', Indonesia='0', Ireland='0', Italy='0', Malaysia='0', Mexico='0', Netherlands='0', New Zealand='0', Norway='0', Peru='0', Philippines='0', Poland='0', Portugal='0', Singapore='0', Spain='0', Sweden='0', Switzerland='0', Taiwan='0', Turkey='0', UK='0', USA='0', Popu_max='10', Top10_dummy='1', Top50_dummy='1', Cluster='global'),\n",
              " Row(Country0='USA', Uri='https://open.spotify.com/track/6FyRXC8tJUh863JCkyWqtk', Popularity='8', Title='adan y eva', Artist='Paulo Londra', Album/Single='single', Genre='argentine hip hop', Artist_followers='11427104', Explicit='FALSE', Album9='Adan y Eva', Release_date='05-11-2018', Track_number='1', Tracks_in_album='1', danceability=0.7670000195503235, energy=0.7089999914169312, key='1', loudness='-4.47', mode='1', speechiness=0.335999995470047, acoustics=0.3230000138282776, instrumentalness=0.0, liveliness=0.06759999692440033, valence=0.7200000286102295, tempo=171.9929962158203, duration_ms=258639.0, time_signature=4.0, Genre_new='hip hop', Days_since_release=740.0, Released_after_2017='1', Explicit_false='1', Explicit_true='0', album31='0', compilation='0', single='1', bolero='0', boy band='0', country36='0', dance/electronic='0', else='0', funk='0', hip hop='1', house='0', indie='0', jazz='0', k-pop='0', latin='0', metal='0', opm='0', pop='0', r&b/soul='0', rap='0', reggae='0', reggaeton='0', rock='0', trap='0', syuzhet_norm=None, bing_norm=None, afinn_norm=None, nrc_norm=None, syuzhet=None, bing=None, afinn=None, nrc=None, anger=None, anticipation=None, disgust=None, fear=None, joy=None, sadness=None, surprise=None, trust=None, negative=None, positive=None, n_words=None, anger_norm=None, anticipation_norm=None, disgust_norm=None, fear_norm=None, joy_norm=None, sadness_norm=None, surprise_norm=None, trust_norm=None, negative_norm=None, positive_norm=None, anger_norm2=None, anticipation_norm2=None, disgust_norm2=None, fear_norm2=None, joy_norm2=None, sadness_norm2=None, surprise_norm2=None, trust_norm2=None, negative_norm2=None, positive_norm2=None, negative_bog_jr=None, positive_bog_jr=None, Bayes=None, Negative_Bayes=None, Neutral_Bayes=None, Positive_Bayes=None, LDA_Topic=None, Celebrate=None, Desire=None, Explore=None, Fun=None, Hope=None, Love=None, Nostalgia=None, Thug=None, bing_norm_negative='0', bing_norm_neutral='0', bing_norm_positive='0', Argentina='0', Australia='0', Austria='0', Belgium='0', Brazil='0', Canada='0', Chile='0', Colombia='0', Costa Rica='0', Denmark='0', Ecuador='0', Finland='0', France='0', Germany='0', Global='0', Indonesia='0', Ireland='0', Italy='0', Malaysia='0', Mexico='0', Netherlands='0', New Zealand='0', Norway='0', Peru='0', Philippines='0', Poland='0', Portugal='0', Singapore='0', Spain='0', Sweden='0', Switzerland='0', Taiwan='0', Turkey='0', UK='0', USA='1', Popu_max='191', Top10_dummy='0', Top50_dummy='0', Cluster='english speaking and nordic'),\n",
              " Row(Country0='Argentina', Uri='https://open.spotify.com/track/6FyRXC8tJUh863JCkyWqtk', Popularity='76924.4', Title='adan y eva', Artist='Paulo Londra', Album/Single='single', Genre='argentine hip hop', Artist_followers='11427104', Explicit='FALSE', Album9='Adan y Eva', Release_date='05-11-2018', Track_number='1', Tracks_in_album='1', danceability=0.7670000195503235, energy=0.7089999914169312, key='1', loudness='-4.47', mode='1', speechiness=0.335999995470047, acoustics=0.3230000138282776, instrumentalness=0.0, liveliness=0.06759999692440033, valence=0.7200000286102295, tempo=171.9929962158203, duration_ms=258639.0, time_signature=4.0, Genre_new='hip hop', Days_since_release=740.0, Released_after_2017='1', Explicit_false='1', Explicit_true='0', album31='0', compilation='0', single='1', bolero='0', boy band='0', country36='0', dance/electronic='0', else='0', funk='0', hip hop='1', house='0', indie='0', jazz='0', k-pop='0', latin='0', metal='0', opm='0', pop='0', r&b/soul='0', rap='0', reggae='0', reggaeton='0', rock='0', trap='0', syuzhet_norm=None, bing_norm=None, afinn_norm=None, nrc_norm=None, syuzhet=None, bing=None, afinn=None, nrc=None, anger=None, anticipation=None, disgust=None, fear=None, joy=None, sadness=None, surprise=None, trust=None, negative=None, positive=None, n_words=None, anger_norm=None, anticipation_norm=None, disgust_norm=None, fear_norm=None, joy_norm=None, sadness_norm=None, surprise_norm=None, trust_norm=None, negative_norm=None, positive_norm=None, anger_norm2=None, anticipation_norm2=None, disgust_norm2=None, fear_norm2=None, joy_norm2=None, sadness_norm2=None, surprise_norm2=None, trust_norm2=None, negative_norm2=None, positive_norm2=None, negative_bog_jr=None, positive_bog_jr=None, Bayes=None, Negative_Bayes=None, Neutral_Bayes=None, Positive_Bayes=None, LDA_Topic=None, Celebrate=None, Desire=None, Explore=None, Fun=None, Hope=None, Love=None, Nostalgia=None, Thug=None, bing_norm_negative='0', bing_norm_neutral='0', bing_norm_positive='0', Argentina='1', Australia='0', Austria='0', Belgium='0', Brazil='0', Canada='0', Chile='0', Colombia='0', Costa Rica='0', Denmark='0', Ecuador='0', Finland='0', France='0', Germany='0', Global='0', Indonesia='0', Ireland='0', Italy='0', Malaysia='0', Mexico='0', Netherlands='0', New Zealand='0', Norway='0', Peru='0', Philippines='0', Poland='0', Portugal='0', Singapore='0', Spain='0', Sweden='0', Switzerland='0', Taiwan='0', Turkey='0', UK='0', USA='0', Popu_max='1', Top10_dummy='1', Top50_dummy='1', Cluster='spanish speaking'),\n",
              " Row(Country0='Belgium', Uri='https://open.spotify.com/track/6FyRXC8tJUh863JCkyWqtk', Popularity='849.6', Title='adan y eva', Artist='Paulo Londra', Album/Single='single', Genre='argentine hip hop', Artist_followers='11427104', Explicit='FALSE', Album9='Adan y Eva', Release_date='05-11-2018', Track_number='1', Tracks_in_album='1', danceability=0.7670000195503235, energy=0.7089999914169312, key='1', loudness='-4.47', mode='1', speechiness=0.335999995470047, acoustics=0.3230000138282776, instrumentalness=0.0, liveliness=0.06759999692440033, valence=0.7200000286102295, tempo=171.9929962158203, duration_ms=258639.0, time_signature=4.0, Genre_new='hip hop', Days_since_release=740.0, Released_after_2017='1', Explicit_false='1', Explicit_true='0', album31='0', compilation='0', single='1', bolero='0', boy band='0', country36='0', dance/electronic='0', else='0', funk='0', hip hop='1', house='0', indie='0', jazz='0', k-pop='0', latin='0', metal='0', opm='0', pop='0', r&b/soul='0', rap='0', reggae='0', reggaeton='0', rock='0', trap='0', syuzhet_norm=None, bing_norm=None, afinn_norm=None, nrc_norm=None, syuzhet=None, bing=None, afinn=None, nrc=None, anger=None, anticipation=None, disgust=None, fear=None, joy=None, sadness=None, surprise=None, trust=None, negative=None, positive=None, n_words=None, anger_norm=None, anticipation_norm=None, disgust_norm=None, fear_norm=None, joy_norm=None, sadness_norm=None, surprise_norm=None, trust_norm=None, negative_norm=None, positive_norm=None, anger_norm2=None, anticipation_norm2=None, disgust_norm2=None, fear_norm2=None, joy_norm2=None, sadness_norm2=None, surprise_norm2=None, trust_norm2=None, negative_norm2=None, positive_norm2=None, negative_bog_jr=None, positive_bog_jr=None, Bayes=None, Negative_Bayes=None, Neutral_Bayes=None, Positive_Bayes=None, LDA_Topic=None, Celebrate=None, Desire=None, Explore=None, Fun=None, Hope=None, Love=None, Nostalgia=None, Thug=None, bing_norm_negative='0', bing_norm_neutral='0', bing_norm_positive='0', Argentina='0', Australia='0', Austria='0', Belgium='1', Brazil='0', Canada='0', Chile='0', Colombia='0', Costa Rica='0', Denmark='0', Ecuador='0', Finland='0', France='0', Germany='0', Global='0', Indonesia='0', Ireland='0', Italy='0', Malaysia='0', Mexico='0', Netherlands='0', New Zealand='0', Norway='0', Peru='0', Philippines='0', Poland='0', Portugal='0', Singapore='0', Spain='0', Sweden='0', Switzerland='0', Taiwan='0', Turkey='0', UK='0', USA='0', Popu_max='126', Top10_dummy='0', Top50_dummy='0', Cluster='english speaking and nordic'),\n",
              " Row(Country0='Switzerland', Uri='https://open.spotify.com/track/6FyRXC8tJUh863JCkyWqtk', Popularity='20739.1', Title='adan y eva', Artist='Paulo Londra', Album/Single='single', Genre='argentine hip hop', Artist_followers='11427104', Explicit='FALSE', Album9='Adan y Eva', Release_date='05-11-2018', Track_number='1', Tracks_in_album='1', danceability=0.7670000195503235, energy=0.7089999914169312, key='1', loudness='-4.47', mode='1', speechiness=0.335999995470047, acoustics=0.3230000138282776, instrumentalness=0.0, liveliness=0.06759999692440033, valence=0.7200000286102295, tempo=171.9929962158203, duration_ms=258639.0, time_signature=4.0, Genre_new='hip hop', Days_since_release=740.0, Released_after_2017='1', Explicit_false='1', Explicit_true='0', album31='0', compilation='0', single='1', bolero='0', boy band='0', country36='0', dance/electronic='0', else='0', funk='0', hip hop='1', house='0', indie='0', jazz='0', k-pop='0', latin='0', metal='0', opm='0', pop='0', r&b/soul='0', rap='0', reggae='0', reggaeton='0', rock='0', trap='0', syuzhet_norm=None, bing_norm=None, afinn_norm=None, nrc_norm=None, syuzhet=None, bing=None, afinn=None, nrc=None, anger=None, anticipation=None, disgust=None, fear=None, joy=None, sadness=None, surprise=None, trust=None, negative=None, positive=None, n_words=None, anger_norm=None, anticipation_norm=None, disgust_norm=None, fear_norm=None, joy_norm=None, sadness_norm=None, surprise_norm=None, trust_norm=None, negative_norm=None, positive_norm=None, anger_norm2=None, anticipation_norm2=None, disgust_norm2=None, fear_norm2=None, joy_norm2=None, sadness_norm2=None, surprise_norm2=None, trust_norm2=None, negative_norm2=None, positive_norm2=None, negative_bog_jr=None, positive_bog_jr=None, Bayes=None, Negative_Bayes=None, Neutral_Bayes=None, Positive_Bayes=None, LDA_Topic=None, Celebrate=None, Desire=None, Explore=None, Fun=None, Hope=None, Love=None, Nostalgia=None, Thug=None, bing_norm_negative='0', bing_norm_neutral='0', bing_norm_positive='0', Argentina='0', Australia='0', Austria='0', Belgium='0', Brazil='0', Canada='0', Chile='0', Colombia='0', Costa Rica='0', Denmark='0', Ecuador='0', Finland='0', France='0', Germany='0', Global='0', Indonesia='0', Ireland='0', Italy='0', Malaysia='0', Mexico='0', Netherlands='0', New Zealand='0', Norway='0', Peru='0', Philippines='0', Poland='0', Portugal='0', Singapore='0', Spain='0', Sweden='0', Switzerland='1', Taiwan='0', Turkey='0', UK='0', USA='0', Popu_max='21', Top10_dummy='0', Top50_dummy='1', Cluster='english speaking and nordic'),\n",
              " Row(Country0='Chile', Uri='https://open.spotify.com/track/6FyRXC8tJUh863JCkyWqtk', Popularity='60264.2', Title='adan y eva', Artist='Paulo Londra', Album/Single='single', Genre='argentine hip hop', Artist_followers='11427104', Explicit='FALSE', Album9='Adan y Eva', Release_date='05-11-2018', Track_number='1', Tracks_in_album='1', danceability=0.7670000195503235, energy=0.7089999914169312, key='1', loudness='-4.47', mode='1', speechiness=0.335999995470047, acoustics=0.3230000138282776, instrumentalness=0.0, liveliness=0.06759999692440033, valence=0.7200000286102295, tempo=171.9929962158203, duration_ms=258639.0, time_signature=4.0, Genre_new='hip hop', Days_since_release=740.0, Released_after_2017='1', Explicit_false='1', Explicit_true='0', album31='0', compilation='0', single='1', bolero='0', boy band='0', country36='0', dance/electronic='0', else='0', funk='0', hip hop='1', house='0', indie='0', jazz='0', k-pop='0', latin='0', metal='0', opm='0', pop='0', r&b/soul='0', rap='0', reggae='0', reggaeton='0', rock='0', trap='0', syuzhet_norm=None, bing_norm=None, afinn_norm=None, nrc_norm=None, syuzhet=None, bing=None, afinn=None, nrc=None, anger=None, anticipation=None, disgust=None, fear=None, joy=None, sadness=None, surprise=None, trust=None, negative=None, positive=None, n_words=None, anger_norm=None, anticipation_norm=None, disgust_norm=None, fear_norm=None, joy_norm=None, sadness_norm=None, surprise_norm=None, trust_norm=None, negative_norm=None, positive_norm=None, anger_norm2=None, anticipation_norm2=None, disgust_norm2=None, fear_norm2=None, joy_norm2=None, sadness_norm2=None, surprise_norm2=None, trust_norm2=None, negative_norm2=None, positive_norm2=None, negative_bog_jr=None, positive_bog_jr=None, Bayes=None, Negative_Bayes=None, Neutral_Bayes=None, Positive_Bayes=None, LDA_Topic=None, Celebrate=None, Desire=None, Explore=None, Fun=None, Hope=None, Love=None, Nostalgia=None, Thug=None, bing_norm_negative='0', bing_norm_neutral='0', bing_norm_positive='0', Argentina='0', Australia='0', Austria='0', Belgium='0', Brazil='0', Canada='0', Chile='1', Colombia='0', Costa Rica='0', Denmark='0', Ecuador='0', Finland='0', France='0', Germany='0', Global='0', Indonesia='0', Ireland='0', Italy='0', Malaysia='0', Mexico='0', Netherlands='0', New Zealand='0', Norway='0', Peru='0', Philippines='0', Poland='0', Portugal='0', Singapore='0', Spain='0', Sweden='0', Switzerland='0', Taiwan='0', Turkey='0', UK='0', USA='0', Popu_max='1', Top10_dummy='1', Top50_dummy='1', Cluster='spanish speaking'),\n",
              " Row(Country0='Colombia', Uri='https://open.spotify.com/track/6FyRXC8tJUh863JCkyWqtk', Popularity='60131.15', Title='adan y eva', Artist='Paulo Londra', Album/Single='single', Genre='argentine hip hop', Artist_followers='11427104', Explicit='FALSE', Album9='Adan y Eva', Release_date='05-11-2018', Track_number='1', Tracks_in_album='1', danceability=0.7670000195503235, energy=0.7089999914169312, key='1', loudness='-4.47', mode='1', speechiness=0.335999995470047, acoustics=0.3230000138282776, instrumentalness=0.0, liveliness=0.06759999692440033, valence=0.7200000286102295, tempo=171.9929962158203, duration_ms=258639.0, time_signature=4.0, Genre_new='hip hop', Days_since_release=740.0, Released_after_2017='1', Explicit_false='1', Explicit_true='0', album31='0', compilation='0', single='1', bolero='0', boy band='0', country36='0', dance/electronic='0', else='0', funk='0', hip hop='1', house='0', indie='0', jazz='0', k-pop='0', latin='0', metal='0', opm='0', pop='0', r&b/soul='0', rap='0', reggae='0', reggaeton='0', rock='0', trap='0', syuzhet_norm=None, bing_norm=None, afinn_norm=None, nrc_norm=None, syuzhet=None, bing=None, afinn=None, nrc=None, anger=None, anticipation=None, disgust=None, fear=None, joy=None, sadness=None, surprise=None, trust=None, negative=None, positive=None, n_words=None, anger_norm=None, anticipation_norm=None, disgust_norm=None, fear_norm=None, joy_norm=None, sadness_norm=None, surprise_norm=None, trust_norm=None, negative_norm=None, positive_norm=None, anger_norm2=None, anticipation_norm2=None, disgust_norm2=None, fear_norm2=None, joy_norm2=None, sadness_norm2=None, surprise_norm2=None, trust_norm2=None, negative_norm2=None, positive_norm2=None, negative_bog_jr=None, positive_bog_jr=None, Bayes=None, Negative_Bayes=None, Neutral_Bayes=None, Positive_Bayes=None, LDA_Topic=None, Celebrate=None, Desire=None, Explore=None, Fun=None, Hope=None, Love=None, Nostalgia=None, Thug=None, bing_norm_negative='0', bing_norm_neutral='0', bing_norm_positive='0', Argentina='0', Australia='0', Austria='0', Belgium='0', Brazil='0', Canada='0', Chile='0', Colombia='1', Costa Rica='0', Denmark='0', Ecuador='0', Finland='0', France='0', Germany='0', Global='0', Indonesia='0', Ireland='0', Italy='0', Malaysia='0', Mexico='0', Netherlands='0', New Zealand='0', Norway='0', Peru='0', Philippines='0', Poland='0', Portugal='0', Singapore='0', Spain='0', Sweden='0', Switzerland='0', Taiwan='0', Turkey='0', UK='0', USA='0', Popu_max='2', Top10_dummy='1', Top50_dummy='1', Cluster='spanish speaking'),\n",
              " Row(Country0='Costa Rica', Uri='https://open.spotify.com/track/6FyRXC8tJUh863JCkyWqtk', Popularity='64081.3', Title='adan y eva', Artist='Paulo Londra', Album/Single='single', Genre='argentine hip hop', Artist_followers='11427104', Explicit='FALSE', Album9='Adan y Eva', Release_date='05-11-2018', Track_number='1', Tracks_in_album='1', danceability=0.7670000195503235, energy=0.7089999914169312, key='1', loudness='-4.47', mode='1', speechiness=0.335999995470047, acoustics=0.3230000138282776, instrumentalness=0.0, liveliness=0.06759999692440033, valence=0.7200000286102295, tempo=171.9929962158203, duration_ms=258639.0, time_signature=4.0, Genre_new='hip hop', Days_since_release=740.0, Released_after_2017='1', Explicit_false='1', Explicit_true='0', album31='0', compilation='0', single='1', bolero='0', boy band='0', country36='0', dance/electronic='0', else='0', funk='0', hip hop='1', house='0', indie='0', jazz='0', k-pop='0', latin='0', metal='0', opm='0', pop='0', r&b/soul='0', rap='0', reggae='0', reggaeton='0', rock='0', trap='0', syuzhet_norm=None, bing_norm=None, afinn_norm=None, nrc_norm=None, syuzhet=None, bing=None, afinn=None, nrc=None, anger=None, anticipation=None, disgust=None, fear=None, joy=None, sadness=None, surprise=None, trust=None, negative=None, positive=None, n_words=None, anger_norm=None, anticipation_norm=None, disgust_norm=None, fear_norm=None, joy_norm=None, sadness_norm=None, surprise_norm=None, trust_norm=None, negative_norm=None, positive_norm=None, anger_norm2=None, anticipation_norm2=None, disgust_norm2=None, fear_norm2=None, joy_norm2=None, sadness_norm2=None, surprise_norm2=None, trust_norm2=None, negative_norm2=None, positive_norm2=None, negative_bog_jr=None, positive_bog_jr=None, Bayes=None, Negative_Bayes=None, Neutral_Bayes=None, Positive_Bayes=None, LDA_Topic=None, Celebrate=None, Desire=None, Explore=None, Fun=None, Hope=None, Love=None, Nostalgia=None, Thug=None, bing_norm_negative='0', bing_norm_neutral='0', bing_norm_positive='0', Argentina='0', Australia='0', Austria='0', Belgium='0', Brazil='0', Canada='0', Chile='0', Colombia='0', Costa Rica='1', Denmark='0', Ecuador='0', Finland='0', France='0', Germany='0', Global='0', Indonesia='0', Ireland='0', Italy='0', Malaysia='0', Mexico='0', Netherlands='0', New Zealand='0', Norway='0', Peru='0', Philippines='0', Poland='0', Portugal='0', Singapore='0', Spain='0', Sweden='0', Switzerland='0', Taiwan='0', Turkey='0', UK='0', USA='0', Popu_max='1', Top10_dummy='1', Top50_dummy='1', Cluster='spanish speaking'),\n",
              " Row(Country0='Germany', Uri='https://open.spotify.com/track/6FyRXC8tJUh863JCkyWqtk', Popularity='208', Title='adan y eva', Artist='Paulo Londra', Album/Single='single', Genre='argentine hip hop', Artist_followers='11427104', Explicit='FALSE', Album9='Adan y Eva', Release_date='05-11-2018', Track_number='1', Tracks_in_album='1', danceability=0.7670000195503235, energy=0.7089999914169312, key='1', loudness='-4.47', mode='1', speechiness=0.335999995470047, acoustics=0.3230000138282776, instrumentalness=0.0, liveliness=0.06759999692440033, valence=0.7200000286102295, tempo=171.9929962158203, duration_ms=258639.0, time_signature=4.0, Genre_new='hip hop', Days_since_release=740.0, Released_after_2017='1', Explicit_false='1', Explicit_true='0', album31='0', compilation='0', single='1', bolero='0', boy band='0', country36='0', dance/electronic='0', else='0', funk='0', hip hop='1', house='0', indie='0', jazz='0', k-pop='0', latin='0', metal='0', opm='0', pop='0', r&b/soul='0', rap='0', reggae='0', reggaeton='0', rock='0', trap='0', syuzhet_norm=None, bing_norm=None, afinn_norm=None, nrc_norm=None, syuzhet=None, bing=None, afinn=None, nrc=None, anger=None, anticipation=None, disgust=None, fear=None, joy=None, sadness=None, surprise=None, trust=None, negative=None, positive=None, n_words=None, anger_norm=None, anticipation_norm=None, disgust_norm=None, fear_norm=None, joy_norm=None, sadness_norm=None, surprise_norm=None, trust_norm=None, negative_norm=None, positive_norm=None, anger_norm2=None, anticipation_norm2=None, disgust_norm2=None, fear_norm2=None, joy_norm2=None, sadness_norm2=None, surprise_norm2=None, trust_norm2=None, negative_norm2=None, positive_norm2=None, negative_bog_jr=None, positive_bog_jr=None, Bayes=None, Negative_Bayes=None, Neutral_Bayes=None, Positive_Bayes=None, LDA_Topic=None, Celebrate=None, Desire=None, Explore=None, Fun=None, Hope=None, Love=None, Nostalgia=None, Thug=None, bing_norm_negative='0', bing_norm_neutral='0', bing_norm_positive='0', Argentina='0', Australia='0', Austria='0', Belgium='0', Brazil='0', Canada='0', Chile='0', Colombia='0', Costa Rica='0', Denmark='0', Ecuador='0', Finland='0', France='0', Germany='1', Global='0', Indonesia='0', Ireland='0', Italy='0', Malaysia='0', Mexico='0', Netherlands='0', New Zealand='0', Norway='0', Peru='0', Philippines='0', Poland='0', Portugal='0', Singapore='0', Spain='0', Sweden='0', Switzerland='0', Taiwan='0', Turkey='0', UK='0', USA='0', Popu_max='180', Top10_dummy='0', Top50_dummy='0', Cluster='english speaking and nordic'),\n",
              " Row(Country0='Ecuador', Uri='https://open.spotify.com/track/6FyRXC8tJUh863JCkyWqtk', Popularity='75636.9', Title='adan y eva', Artist='Paulo Londra', Album/Single='single', Genre='argentine hip hop', Artist_followers='11427104', Explicit='FALSE', Album9='Adan y Eva', Release_date='05-11-2018', Track_number='1', Tracks_in_album='1', danceability=0.7670000195503235, energy=0.7089999914169312, key='1', loudness='-4.47', mode='1', speechiness=0.335999995470047, acoustics=0.3230000138282776, instrumentalness=0.0, liveliness=0.06759999692440033, valence=0.7200000286102295, tempo=171.9929962158203, duration_ms=258639.0, time_signature=4.0, Genre_new='hip hop', Days_since_release=740.0, Released_after_2017='1', Explicit_false='1', Explicit_true='0', album31='0', compilation='0', single='1', bolero='0', boy band='0', country36='0', dance/electronic='0', else='0', funk='0', hip hop='1', house='0', indie='0', jazz='0', k-pop='0', latin='0', metal='0', opm='0', pop='0', r&b/soul='0', rap='0', reggae='0', reggaeton='0', rock='0', trap='0', syuzhet_norm=None, bing_norm=None, afinn_norm=None, nrc_norm=None, syuzhet=None, bing=None, afinn=None, nrc=None, anger=None, anticipation=None, disgust=None, fear=None, joy=None, sadness=None, surprise=None, trust=None, negative=None, positive=None, n_words=None, anger_norm=None, anticipation_norm=None, disgust_norm=None, fear_norm=None, joy_norm=None, sadness_norm=None, surprise_norm=None, trust_norm=None, negative_norm=None, positive_norm=None, anger_norm2=None, anticipation_norm2=None, disgust_norm2=None, fear_norm2=None, joy_norm2=None, sadness_norm2=None, surprise_norm2=None, trust_norm2=None, negative_norm2=None, positive_norm2=None, negative_bog_jr=None, positive_bog_jr=None, Bayes=None, Negative_Bayes=None, Neutral_Bayes=None, Positive_Bayes=None, LDA_Topic=None, Celebrate=None, Desire=None, Explore=None, Fun=None, Hope=None, Love=None, Nostalgia=None, Thug=None, bing_norm_negative='0', bing_norm_neutral='0', bing_norm_positive='0', Argentina='0', Australia='0', Austria='0', Belgium='0', Brazil='0', Canada='0', Chile='0', Colombia='0', Costa Rica='0', Denmark='0', Ecuador='1', Finland='0', France='0', Germany='0', Global='0', Indonesia='0', Ireland='0', Italy='0', Malaysia='0', Mexico='0', Netherlands='0', New Zealand='0', Norway='0', Peru='0', Philippines='0', Poland='0', Portugal='0', Singapore='0', Spain='0', Sweden='0', Switzerland='0', Taiwan='0', Turkey='0', UK='0', USA='0', Popu_max='1', Top10_dummy='1', Top50_dummy='1', Cluster='spanish speaking')]"
            ]
          },
          "metadata": {},
          "execution_count": 216
        }
      ]
    },
    {
      "cell_type": "code",
      "execution_count": null,
      "id": "turned-discretion",
      "metadata": {
        "id": "turned-discretion"
      },
      "outputs": [],
      "source": [
        "sns.set_style('darkgrid')"
      ]
    },
    {
      "cell_type": "code",
      "execution_count": null,
      "id": "satellite-hampton",
      "metadata": {
        "scrolled": true,
        "colab": {
          "base_uri": "https://localhost:8080/",
          "height": 313
        },
        "id": "satellite-hampton",
        "outputId": "aec620b6-da58-4133-ec18-fe04c0b887b8"
      },
      "outputs": [
        {
          "output_type": "execute_result",
          "data": {
            "text/plain": [
              "Text(0.5, 1.0, 'Popular Artists')"
            ]
          },
          "metadata": {},
          "execution_count": 218
        },
        {
          "output_type": "display_data",
          "data": {
            "image/png": "[encoded data removed]",
            "text/plain": [
              "<Figure size 432x288 with 1 Axes>"
            ]
          },
          "metadata": {}
        }
      ],
      "source": [
        "popular_artist = df.groupBy(\"Artist\").count().orderBy(\"count\",ascending=False).limit(20).toPandas()\n",
        "sns.barplot(data=popular_artist,y='Artist',x='count').set_title('Popular Artists')"
      ]
    },
    {
      "cell_type": "code",
      "source": [
        "df.dtypes"
      ],
      "metadata": {
        "colab": {
          "base_uri": "https://localhost:8080/"
        },
        "id": "QpgpfBO1PNyA",
        "outputId": "8f934316-f751-4c69-eb98-ae7e83c0e4ba"
      },
      "id": "QpgpfBO1PNyA",
      "execution_count": null,
      "outputs": [
        {
          "output_type": "execute_result",
          "data": {
            "text/plain": [
              "[('Country0', 'string'),\n",
              " ('Uri', 'string'),\n",
              " ('Popularity', 'string'),\n",
              " ('Title', 'string'),\n",
              " ('Artist', 'string'),\n",
              " ('Album/Single', 'string'),\n",
              " ('Genre', 'string'),\n",
              " ('Artist_followers', 'string'),\n",
              " ('Explicit', 'string'),\n",
              " ('Album9', 'string'),\n",
              " ('Release_date', 'string'),\n",
              " ('Track_number', 'string'),\n",
              " ('Tracks_in_album', 'string'),\n",
              " ('danceability', 'float'),\n",
              " ('energy', 'float'),\n",
              " ('key', 'string'),\n",
              " ('loudness', 'string'),\n",
              " ('mode', 'string'),\n",
              " ('speechiness', 'float'),\n",
              " ('acoustics', 'float'),\n",
              " ('instrumentalness', 'float'),\n",
              " ('liveliness', 'float'),\n",
              " ('valence', 'float'),\n",
              " ('tempo', 'float'),\n",
              " ('duration_ms', 'float'),\n",
              " ('time_signature', 'float'),\n",
              " ('Genre_new', 'string'),\n",
              " ('Days_since_release', 'float'),\n",
              " ('Released_after_2017', 'string'),\n",
              " ('Explicit_false', 'string'),\n",
              " ('Explicit_true', 'string'),\n",
              " ('album31', 'string'),\n",
              " ('compilation', 'string'),\n",
              " ('single', 'string'),\n",
              " ('bolero', 'string'),\n",
              " ('boy band', 'string'),\n",
              " ('country36', 'string'),\n",
              " ('dance/electronic', 'string'),\n",
              " ('else', 'string'),\n",
              " ('funk', 'string'),\n",
              " ('hip hop', 'string'),\n",
              " ('house', 'string'),\n",
              " ('indie', 'string'),\n",
              " ('jazz', 'string'),\n",
              " ('k-pop', 'string'),\n",
              " ('latin', 'string'),\n",
              " ('metal', 'string'),\n",
              " ('opm', 'string'),\n",
              " ('pop', 'string'),\n",
              " ('r&b/soul', 'string'),\n",
              " ('rap', 'string'),\n",
              " ('reggae', 'string'),\n",
              " ('reggaeton', 'string'),\n",
              " ('rock', 'string'),\n",
              " ('trap', 'string'),\n",
              " ('syuzhet_norm', 'string'),\n",
              " ('bing_norm', 'string'),\n",
              " ('afinn_norm', 'string'),\n",
              " ('nrc_norm', 'string'),\n",
              " ('syuzhet', 'string'),\n",
              " ('bing', 'string'),\n",
              " ('afinn', 'string'),\n",
              " ('nrc', 'string'),\n",
              " ('anger', 'string'),\n",
              " ('anticipation', 'string'),\n",
              " ('disgust', 'string'),\n",
              " ('fear', 'string'),\n",
              " ('joy', 'string'),\n",
              " ('sadness', 'string'),\n",
              " ('surprise', 'string'),\n",
              " ('trust', 'string'),\n",
              " ('negative', 'string'),\n",
              " ('positive', 'string'),\n",
              " ('n_words', 'float'),\n",
              " ('anger_norm', 'string'),\n",
              " ('anticipation_norm', 'string'),\n",
              " ('disgust_norm', 'string'),\n",
              " ('fear_norm', 'string'),\n",
              " ('joy_norm', 'string'),\n",
              " ('sadness_norm', 'string'),\n",
              " ('surprise_norm', 'string'),\n",
              " ('trust_norm', 'string'),\n",
              " ('negative_norm', 'string'),\n",
              " ('positive_norm', 'string'),\n",
              " ('anger_norm2', 'string'),\n",
              " ('anticipation_norm2', 'string'),\n",
              " ('disgust_norm2', 'string'),\n",
              " ('fear_norm2', 'string'),\n",
              " ('joy_norm2', 'string'),\n",
              " ('sadness_norm2', 'string'),\n",
              " ('surprise_norm2', 'string'),\n",
              " ('trust_norm2', 'string'),\n",
              " ('negative_norm2', 'string'),\n",
              " ('positive_norm2', 'string'),\n",
              " ('negative_bog_jr', 'string'),\n",
              " ('positive_bog_jr', 'string'),\n",
              " ('Bayes', 'string'),\n",
              " ('Negative_Bayes', 'string'),\n",
              " ('Neutral_Bayes', 'string'),\n",
              " ('Positive_Bayes', 'string'),\n",
              " ('LDA_Topic', 'string'),\n",
              " ('Celebrate', 'string'),\n",
              " ('Desire', 'string'),\n",
              " ('Explore', 'string'),\n",
              " ('Fun', 'string'),\n",
              " ('Hope', 'string'),\n",
              " ('Love', 'string'),\n",
              " ('Nostalgia', 'string'),\n",
              " ('Thug', 'string'),\n",
              " ('bing_norm_negative', 'string'),\n",
              " ('bing_norm_neutral', 'string'),\n",
              " ('bing_norm_positive', 'string'),\n",
              " ('Argentina', 'string'),\n",
              " ('Australia', 'string'),\n",
              " ('Austria', 'string'),\n",
              " ('Belgium', 'string'),\n",
              " ('Brazil', 'string'),\n",
              " ('Canada', 'string'),\n",
              " ('Chile', 'string'),\n",
              " ('Colombia', 'string'),\n",
              " ('Costa Rica', 'string'),\n",
              " ('Denmark', 'string'),\n",
              " ('Ecuador', 'string'),\n",
              " ('Finland', 'string'),\n",
              " ('France', 'string'),\n",
              " ('Germany', 'string'),\n",
              " ('Global', 'string'),\n",
              " ('Indonesia', 'string'),\n",
              " ('Ireland', 'string'),\n",
              " ('Italy', 'string'),\n",
              " ('Malaysia', 'string'),\n",
              " ('Mexico', 'string'),\n",
              " ('Netherlands', 'string'),\n",
              " ('New Zealand', 'string'),\n",
              " ('Norway', 'string'),\n",
              " ('Peru', 'string'),\n",
              " ('Philippines', 'string'),\n",
              " ('Poland', 'string'),\n",
              " ('Portugal', 'string'),\n",
              " ('Singapore', 'string'),\n",
              " ('Spain', 'string'),\n",
              " ('Sweden', 'string'),\n",
              " ('Switzerland', 'string'),\n",
              " ('Taiwan', 'string'),\n",
              " ('Turkey', 'string'),\n",
              " ('UK', 'string'),\n",
              " ('USA', 'string'),\n",
              " ('Popu_max', 'string'),\n",
              " ('Top10_dummy', 'string'),\n",
              " ('Top50_dummy', 'string'),\n",
              " ('Cluster', 'string')]"
            ]
          },
          "metadata": {},
          "execution_count": 219
        }
      ]
    },
    {
      "cell_type": "markdown",
      "id": "exempt-toyota",
      "metadata": {
        "id": "exempt-toyota"
      },
      "source": [
        "#### Popular Artist in UK"
      ]
    },
    {
      "cell_type": "code",
      "execution_count": null,
      "id": "integral-rebound",
      "metadata": {
        "id": "integral-rebound"
      },
      "outputs": [],
      "source": [
        "df.registerTempTable(\"music_data\")"
      ]
    },
    {
      "cell_type": "code",
      "execution_count": null,
      "id": "moderate-improvement",
      "metadata": {
        "colab": {
          "base_uri": "https://localhost:8080/"
        },
        "id": "moderate-improvement",
        "outputId": "05e04072-0774-43f1-f517-bdcde2c16a59"
      },
      "outputs": [
        {
          "output_type": "stream",
          "name": "stdout",
          "text": [
            "+---------------------------------------------------------------------------------+----------+\n",
            "|Artist                                                                           |Populartiy|\n",
            "+---------------------------------------------------------------------------------+----------+\n",
            "|Calvin Harris - Dua Lipa                                                         |102479.25 |\n",
            "|Marshmello - Bastille                                                            |84639.15  |\n",
            "|Keala Settle - The Greatest Showman Ensemble                                     |82456.05  |\n",
            "|Clean Bandit - Zara Larsson                                                      |71408.25  |\n",
            "|Roddy Ricch                                                                      |71282.0   |\n",
            "|Calvin Harris - Sam Smith - Jessie Reyez                                         |70113.45  |\n",
            "|DJ Khaled - Rihanna - Bryson Tiller                                              |66377.45  |\n",
            "|George Ezra                                                                      |196681.8  |\n",
            "|Portugal. The Man                                                                |64179.35  |\n",
            "|Tones And I                                                                      |125309.7  |\n",
            "|Post Malone - Quavo                                                              |62164.7   |\n",
            "|Regard                                                                           |61485.0   |\n",
            "|Post Malone - 21 Savage                                                          |122706.65 |\n",
            "|Oasis                                                                            |122116.95 |\n",
            "|Hugh Jackman - Keala Settle - Zac Efron - Zendaya - The Greatest Showman Ensemble|59881.35  |\n",
            "+---------------------------------------------------------------------------------+----------+\n",
            "\n"
          ]
        }
      ],
      "source": [
        "popular_artist_specific_country_uk = spark.sql('SELECT Artist, ROUND(SUM(Popularity), 2) AS Populartiy \\\n",
        "                 FROM music_data \\\n",
        "                 WHERE UK == 1 \\\n",
        "                 GROUP BY Artist \\\n",
        "                 ORDER BY AVG(Popularity) DESC \\\n",
        "                 LIMIT 15'\n",
        "               )\n",
        "popular_artist_specific_country_uk.show(20, truncate=False)\n",
        "# type(popular_artist_specific_country_uk)"
      ]
    },
    {
      "cell_type": "code",
      "source": [
        "sns.barplot(data=popular_artist_specific_country_uk.toPandas(),y='Artist',x='Populartiy').set_title('Popular Artists in UK')"
      ],
      "metadata": {
        "colab": {
          "base_uri": "https://localhost:8080/",
          "height": 313
        },
        "id": "I4ZagEj6I7LR",
        "outputId": "b78cb2d2-8cb4-444f-d533-e9cb2879c888"
      },
      "id": "I4ZagEj6I7LR",
      "execution_count": null,
      "outputs": [
        {
          "output_type": "execute_result",
          "data": {
            "text/plain": [
              "Text(0.5, 1.0, 'Popular Artists in UK')"
            ]
          },
          "metadata": {},
          "execution_count": 222
        },
        {
          "output_type": "display_data",
          "data": {
            "image/png": "[encoded data removed]",
            "text/plain": [
              "<Figure size 432x288 with 1 Axes>"
            ]
          },
          "metadata": {}
        }
      ]
    },
    {
      "cell_type": "markdown",
      "source": [
        "Popular Artist in US"
      ],
      "metadata": {
        "id": "rclkn2e2IKx0"
      },
      "id": "rclkn2e2IKx0"
    },
    {
      "cell_type": "code",
      "source": [
        "popular_artist_specific_country_usa = spark.sql('SELECT Artist, ROUND(SUM(Popularity), 2) AS Populartiy \\\n",
        "                 FROM music_data \\\n",
        "                 WHERE USA == 1 \\\n",
        "                 GROUP BY Artist \\\n",
        "                 ORDER BY AVG(Popularity) DESC \\\n",
        "                 LIMIT 15'\n",
        "               )\n",
        "popular_artist_specific_country_usa.show(20, truncate=False)"
      ],
      "metadata": {
        "colab": {
          "base_uri": "https://localhost:8080/"
        },
        "id": "HJUK2J4UHyij",
        "outputId": "66c4e79f-6a2c-499f-b8f5-af0c991e4197"
      },
      "id": "HJUK2J4UHyij",
      "execution_count": null,
      "outputs": [
        {
          "output_type": "stream",
          "name": "stdout",
          "text": [
            "+---------------------------------------+----------+\n",
            "|Artist                                 |Populartiy|\n",
            "+---------------------------------------+----------+\n",
            "|Post Malone - Quavo                    |130719.15 |\n",
            "|XXXTENTACION - Trippie Redd            |97016.35  |\n",
            "|Meek Mill - Drake                      |83235.95  |\n",
            "|Post Malone - 21 Savage                |159633.25 |\n",
            "|Billie Eilish - Khalid                 |79693.9   |\n",
            "|Marshmello - Bastille                  |74560.5   |\n",
            "|Cardi B - Bad Bunny - J Balvin         |74381.6   |\n",
            "|Migos - Lil Uzi Vert                   |70138.2   |\n",
            "|BlocBoy JB - Drake                     |69576.75  |\n",
            "|Kendrick Lamar - Zacari                |67838.15  |\n",
            "|A Boogie Wit da Hoodie - 6ix9ine       |65935.2   |\n",
            "|Juice WRLD - YoungBoy Never Broke Again|65020.95  |\n",
            "|Mustard - Roddy Ricch                  |61341.0   |\n",
            "|Kodak Black - XXXTENTACION             |51274.6   |\n",
            "|Khalid - Normani                       |48685.35  |\n",
            "+---------------------------------------+----------+\n",
            "\n"
          ]
        }
      ]
    },
    {
      "cell_type": "code",
      "execution_count": null,
      "id": "smart-island",
      "metadata": {
        "colab": {
          "base_uri": "https://localhost:8080/",
          "height": 313
        },
        "id": "smart-island",
        "outputId": "1ae02d65-dc44-450b-f7c1-7b2ec5fe5d6a"
      },
      "outputs": [
        {
          "output_type": "execute_result",
          "data": {
            "text/plain": [
              "Text(0.5, 1.0, 'Popular Artists in a Country-USA')"
            ]
          },
          "metadata": {},
          "execution_count": 224
        },
        {
          "output_type": "display_data",
          "data": {
            "image/png": "[encoded data removed]",
            "text/plain": [
              "<Figure size 432x288 with 1 Axes>"
            ]
          },
          "metadata": {}
        }
      ],
      "source": [
        "sns.barplot(data=popular_artist_specific_country_usa.toPandas(),y='Artist',x='Populartiy').set_title('Popular Artists in a Country-USA')"
      ]
    },
    {
      "cell_type": "markdown",
      "id": "toxic-chocolate",
      "metadata": {
        "id": "toxic-chocolate"
      },
      "source": [
        "#### Songs released in a particular year"
      ]
    },
    {
      "cell_type": "markdown",
      "source": [
        "Songs released in the year 2016,2019 and 2013"
      ],
      "metadata": {
        "id": "-c4PQYpBKJHF"
      },
      "id": "-c4PQYpBKJHF"
    },
    {
      "cell_type": "code",
      "source": [
        "df = spark.read.option(\"header\",True).csv(data)"
      ],
      "metadata": {
        "id": "DCvbmBuUpCe1"
      },
      "id": "DCvbmBuUpCe1",
      "execution_count": null,
      "outputs": []
    },
    {
      "cell_type": "code",
      "execution_count": null,
      "id": "aggregate-space",
      "metadata": {
        "colab": {
          "base_uri": "https://localhost:8080/"
        },
        "id": "aggregate-space",
        "outputId": "0405389b-ac21-4598-f86f-4cf39b525f5f"
      },
      "outputs": [
        {
          "output_type": "stream",
          "name": "stdout",
          "text": [
            "+--------+----------------+------------+-------------+\n",
            "|Title   |Artist          |Release_date|Genre        |\n",
            "+--------+----------------+------------+-------------+\n",
            "|chantaje|Shakira - Maluma|2016        |colombian pop|\n",
            "+--------+----------------+------------+-------------+\n",
            "\n"
          ]
        }
      ],
      "source": [
        "df.filter(F.year(df['Release_date'])==2016).select('Title','Artist','Release_date','Genre').distinct().show(15,truncate=False)"
      ]
    },
    {
      "cell_type": "code",
      "source": [
        "df.filter(F.year(df['Release_date'])==2019).select('Title','Artist','Release_date','Genre').distinct().show(10,truncate=False)"
      ],
      "metadata": {
        "colab": {
          "base_uri": "https://localhost:8080/"
        },
        "id": "oZhAXooIKuqQ",
        "outputId": "df9ffc88-8906-423c-d227-8fdd06eb9e22"
      },
      "id": "oZhAXooIKuqQ",
      "execution_count": null,
      "outputs": [
        {
          "output_type": "stream",
          "name": "stdout",
          "text": [
            "+----------------+--------------------------+------------+--------------+\n",
            "|Title           |Artist                    |Release_date|Genre         |\n",
            "+----------------+--------------------------+------------+--------------+\n",
            "|lost in the fire|Gesaffelstein - The Weeknd|2019        |destroy techno|\n",
            "+----------------+--------------------------+------------+--------------+\n",
            "\n"
          ]
        }
      ]
    },
    {
      "cell_type": "code",
      "source": [
        "df.filter(F.year(df['Release_date'])==2013).select('Title','Artist','Release_date','Genre').distinct().show(10,truncate=False)"
      ],
      "metadata": {
        "colab": {
          "base_uri": "https://localhost:8080/"
        },
        "id": "BwtxC1ndKzit",
        "outputId": "49951d1d-aea0-4311-d915-88a44f9e708a"
      },
      "id": "BwtxC1ndKzit",
      "execution_count": null,
      "outputs": [
        {
          "output_type": "stream",
          "name": "stdout",
          "text": [
            "+-----------------+----------------------------------------------+------------+-----------------------+\n",
            "|Title            |Artist                                        |Release_date|Genre                  |\n",
            "+-----------------+----------------------------------------------+------------+-----------------------+\n",
            "|thinking out loud|Ed Sheeran                                    |2013        |pop                    |\n",
            "|f**kin problems  |A$AP Rocky - Drake - 2 Chainz - Kendrick Lamar|2013        |east coast hip hop     |\n",
            "|photograph       |Ed Sheeran                                    |2013        |pop                    |\n",
            "|tenerife sea     |Ed Sheeran                                    |2013        |pop                    |\n",
            "|dont             |Ed Sheeran                                    |2013        |pop                    |\n",
            "|take me to church|Hozier                                        |2013        |irish singer-songwriter|\n",
            "|all of me        |John Legend                                   |2013        |neo mellow             |\n",
            "|lay it all on me |Rudimental - Ed Sheeran                       |2013        |dance pop              |\n",
            "+-----------------+----------------------------------------------+------------+-----------------------+\n",
            "\n"
          ]
        }
      ]
    },
    {
      "cell_type": "markdown",
      "id": "tired-commitment",
      "metadata": {
        "id": "tired-commitment"
      },
      "source": [
        "#### Most Popular Genres"
      ]
    },
    {
      "cell_type": "code",
      "execution_count": null,
      "id": "afraid-titanium",
      "metadata": {
        "id": "afraid-titanium",
        "outputId": "41da1e19-8b4a-413e-89f6-3dceda1505eb",
        "colab": {
          "base_uri": "https://localhost:8080/"
        }
      },
      "outputs": [
        {
          "output_type": "stream",
          "name": "stdout",
          "text": [
            "+----------------+---------------+\n",
            "|           Genre|popularity_vote|\n",
            "+----------------+---------------+\n",
            "|       dance pop|          20503|\n",
            "|             pop|           6200|\n",
            "|           latin|           3730|\n",
            "|     atl hip hop|           3589|\n",
            "|         hip hop|           2955|\n",
            "|canadian hip hop|           2529|\n",
            "|         emo rap|           2423|\n",
            "|           k-pop|           2094|\n",
            "|        big room|           2045|\n",
            "|     melodic rap|           1982|\n",
            "+----------------+---------------+\n",
            "only showing top 10 rows\n",
            "\n"
          ]
        }
      ],
      "source": [
        "spark.sql('SELECT Genre,Count(*) as popularity_vote from music_data GROUP BY Genre ORDER BY popularity_vote DESC').show(10)"
      ]
    },
    {
      "cell_type": "code",
      "source": [
        "spark.sql('select * from music_data').show(10)"
      ],
      "metadata": {
        "colab": {
          "base_uri": "https://localhost:8080/"
        },
        "id": "K49ZfzpqPStB",
        "outputId": "015b4f49-d55a-4546-a372-423273254a2d"
      },
      "id": "K49ZfzpqPStB",
      "execution_count": null,
      "outputs": [
        {
          "output_type": "stream",
          "name": "stdout",
          "text": [
            "+-----------+--------------------+----------+----------+------------+------------+-----------------+----------------+--------+----------+------------+------------+---------------+------------+------+---+--------+----+-----------+---------+----------------+----------+-------+-------+-----------+--------------+---------+------------------+-------------------+--------------+-------------+-------+-----------+------+------+--------+---------+----------------+----+----+-------+-----+-----+----+-----+-----+-----+---+---+--------+---+------+---------+----+----+------------+---------+----------+--------+-------+----+-----+----+-----+------------+-------+----+----+-------+--------+-----+--------+--------+-------+----------+-----------------+------------+---------+--------+------------+-------------+----------+-------------+-------------+-----------+------------------+-------------+----------+---------+-------------+--------------+-----------+--------------+--------------+---------------+---------------+-----+--------------+-------------+--------------+---------+---------+------+-------+----+----+----+---------+----+------------------+-----------------+------------------+---------+---------+-------+-------+------+------+-----+--------+----------+-------+-------+-------+------+-------+------+---------+-------+-----+--------+------+-----------+-----------+------+----+-----------+------+--------+---------+-----+------+-----------+------+------+---+---+--------+-----------+-----------+--------------------+\n",
            "|   Country0|                 Uri|Popularity|     Title|      Artist|Album/Single|            Genre|Artist_followers|Explicit|    Album9|Release_date|Track_number|Tracks_in_album|danceability|energy|key|loudness|mode|speechiness|acoustics|instrumentalness|liveliness|valence|  tempo|duration_ms|time_signature|Genre_new|Days_since_release|Released_after_2017|Explicit_false|Explicit_true|album31|compilation|single|bolero|boy band|country36|dance/electronic|else|funk|hip hop|house|indie|jazz|k-pop|latin|metal|opm|pop|r&b/soul|rap|reggae|reggaeton|rock|trap|syuzhet_norm|bing_norm|afinn_norm|nrc_norm|syuzhet|bing|afinn| nrc|anger|anticipation|disgust|fear| joy|sadness|surprise|trust|negative|positive|n_words|anger_norm|anticipation_norm|disgust_norm|fear_norm|joy_norm|sadness_norm|surprise_norm|trust_norm|negative_norm|positive_norm|anger_norm2|anticipation_norm2|disgust_norm2|fear_norm2|joy_norm2|sadness_norm2|surprise_norm2|trust_norm2|negative_norm2|positive_norm2|negative_bog_jr|positive_bog_jr|Bayes|Negative_Bayes|Neutral_Bayes|Positive_Bayes|LDA_Topic|Celebrate|Desire|Explore| Fun|Hope|Love|Nostalgia|Thug|bing_norm_negative|bing_norm_neutral|bing_norm_positive|Argentina|Australia|Austria|Belgium|Brazil|Canada|Chile|Colombia|Costa Rica|Denmark|Ecuador|Finland|France|Germany|Global|Indonesia|Ireland|Italy|Malaysia|Mexico|Netherlands|New Zealand|Norway|Peru|Philippines|Poland|Portugal|Singapore|Spain|Sweden|Switzerland|Taiwan|Turkey| UK|USA|Popu_max|Top10_dummy|Top50_dummy|             Cluster|\n",
            "+-----------+--------------------+----------+----------+------------+------------+-----------------+----------------+--------+----------+------------+------------+---------------+------------+------+---+--------+----+-----------+---------+----------------+----------+-------+-------+-----------+--------------+---------+------------------+-------------------+--------------+-------------+-------+-----------+------+------+--------+---------+----------------+----+----+-------+-----+-----+----+-----+-----+-----+---+---+--------+---+------+---------+----+----+------------+---------+----------+--------+-------+----+-----+----+-----+------------+-------+----+----+-------+--------+-----+--------+--------+-------+----------+-----------------+------------+---------+--------+------------+-------------+----------+-------------+-------------+-----------+------------------+-------------+----------+---------+-------------+--------------+-----------+--------------+--------------+---------------+---------------+-----+--------------+-------------+--------------+---------+---------+------+-------+----+----+----+---------+----+------------------+-----------------+------------------+---------+---------+-------+-------+------+------+-----+--------+----------+-------+-------+-------+------+-------+------+---------+-------+-----+--------+------+-----------+-----------+------+----+-----------+------+--------+---------+-----+------+-----------+------+------+---+---+--------+-----------+-----------+--------------------+\n",
            "|     Global|https://open.spot...|  31833.95|adan y eva|Paulo Londra|      single|argentine hip hop|        11427104|   FALSE|Adan y Eva|  05-11-2018|           1|              1|       0.767| 0.709|  1|   -4.47|   1|      0.336|    0.323|             0.0|    0.0676|   0.72|171.993|   258639.0|           4.0|  hip hop|             740.0|                  1|             1|            0|      0|          0|     1|     0|       0|        0|               0|   0|   0|      1|    0|    0|   0|    0|    0|    0|  0|  0|       0|  0|     0|        0|   0|   0|        null|     null|      null|    null|   null|null| null|null| null|        null|   null|null|null|   null|    null| null|    null|    null|   null|      null|             null|        null|     null|    null|        null|         null|      null|         null|         null|       null|              null|         null|      null|     null|         null|          null|       null|          null|          null|           null|           null| null|          null|         null|          null|     null|     null|  null|   null|null|null|null|     null|null|                 0|                0|                 0|        0|        0|      0|      0|     0|     0|    0|       0|         0|      0|      0|      0|     0|      0|     1|        0|      0|    0|       0|     0|          0|          0|     0|   0|          0|     0|       0|        0|    0|     0|          0|     0|     0|  0|  0|      10|          1|          1|              global|\n",
            "|        USA|https://open.spot...|         8|adan y eva|Paulo Londra|      single|argentine hip hop|        11427104|   FALSE|Adan y Eva|  05-11-2018|           1|              1|       0.767| 0.709|  1|   -4.47|   1|      0.336|    0.323|             0.0|    0.0676|   0.72|171.993|   258639.0|           4.0|  hip hop|             740.0|                  1|             1|            0|      0|          0|     1|     0|       0|        0|               0|   0|   0|      1|    0|    0|   0|    0|    0|    0|  0|  0|       0|  0|     0|        0|   0|   0|        null|     null|      null|    null|   null|null| null|null| null|        null|   null|null|null|   null|    null| null|    null|    null|   null|      null|             null|        null|     null|    null|        null|         null|      null|         null|         null|       null|              null|         null|      null|     null|         null|          null|       null|          null|          null|           null|           null| null|          null|         null|          null|     null|     null|  null|   null|null|null|null|     null|null|                 0|                0|                 0|        0|        0|      0|      0|     0|     0|    0|       0|         0|      0|      0|      0|     0|      0|     0|        0|      0|    0|       0|     0|          0|          0|     0|   0|          0|     0|       0|        0|    0|     0|          0|     0|     0|  0|  1|     191|          0|          0|english speaking ...|\n",
            "|  Argentina|https://open.spot...|   76924.4|adan y eva|Paulo Londra|      single|argentine hip hop|        11427104|   FALSE|Adan y Eva|  05-11-2018|           1|              1|       0.767| 0.709|  1|   -4.47|   1|      0.336|    0.323|             0.0|    0.0676|   0.72|171.993|   258639.0|           4.0|  hip hop|             740.0|                  1|             1|            0|      0|          0|     1|     0|       0|        0|               0|   0|   0|      1|    0|    0|   0|    0|    0|    0|  0|  0|       0|  0|     0|        0|   0|   0|        null|     null|      null|    null|   null|null| null|null| null|        null|   null|null|null|   null|    null| null|    null|    null|   null|      null|             null|        null|     null|    null|        null|         null|      null|         null|         null|       null|              null|         null|      null|     null|         null|          null|       null|          null|          null|           null|           null| null|          null|         null|          null|     null|     null|  null|   null|null|null|null|     null|null|                 0|                0|                 0|        1|        0|      0|      0|     0|     0|    0|       0|         0|      0|      0|      0|     0|      0|     0|        0|      0|    0|       0|     0|          0|          0|     0|   0|          0|     0|       0|        0|    0|     0|          0|     0|     0|  0|  0|       1|          1|          1|    spanish speaking|\n",
            "|    Belgium|https://open.spot...|     849.6|adan y eva|Paulo Londra|      single|argentine hip hop|        11427104|   FALSE|Adan y Eva|  05-11-2018|           1|              1|       0.767| 0.709|  1|   -4.47|   1|      0.336|    0.323|             0.0|    0.0676|   0.72|171.993|   258639.0|           4.0|  hip hop|             740.0|                  1|             1|            0|      0|          0|     1|     0|       0|        0|               0|   0|   0|      1|    0|    0|   0|    0|    0|    0|  0|  0|       0|  0|     0|        0|   0|   0|        null|     null|      null|    null|   null|null| null|null| null|        null|   null|null|null|   null|    null| null|    null|    null|   null|      null|             null|        null|     null|    null|        null|         null|      null|         null|         null|       null|              null|         null|      null|     null|         null|          null|       null|          null|          null|           null|           null| null|          null|         null|          null|     null|     null|  null|   null|null|null|null|     null|null|                 0|                0|                 0|        0|        0|      0|      1|     0|     0|    0|       0|         0|      0|      0|      0|     0|      0|     0|        0|      0|    0|       0|     0|          0|          0|     0|   0|          0|     0|       0|        0|    0|     0|          0|     0|     0|  0|  0|     126|          0|          0|english speaking ...|\n",
            "|Switzerland|https://open.spot...|   20739.1|adan y eva|Paulo Londra|      single|argentine hip hop|        11427104|   FALSE|Adan y Eva|  05-11-2018|           1|              1|       0.767| 0.709|  1|   -4.47|   1|      0.336|    0.323|             0.0|    0.0676|   0.72|171.993|   258639.0|           4.0|  hip hop|             740.0|                  1|             1|            0|      0|          0|     1|     0|       0|        0|               0|   0|   0|      1|    0|    0|   0|    0|    0|    0|  0|  0|       0|  0|     0|        0|   0|   0|        null|     null|      null|    null|   null|null| null|null| null|        null|   null|null|null|   null|    null| null|    null|    null|   null|      null|             null|        null|     null|    null|        null|         null|      null|         null|         null|       null|              null|         null|      null|     null|         null|          null|       null|          null|          null|           null|           null| null|          null|         null|          null|     null|     null|  null|   null|null|null|null|     null|null|                 0|                0|                 0|        0|        0|      0|      0|     0|     0|    0|       0|         0|      0|      0|      0|     0|      0|     0|        0|      0|    0|       0|     0|          0|          0|     0|   0|          0|     0|       0|        0|    0|     0|          1|     0|     0|  0|  0|      21|          0|          1|english speaking ...|\n",
            "|      Chile|https://open.spot...|   60264.2|adan y eva|Paulo Londra|      single|argentine hip hop|        11427104|   FALSE|Adan y Eva|  05-11-2018|           1|              1|       0.767| 0.709|  1|   -4.47|   1|      0.336|    0.323|             0.0|    0.0676|   0.72|171.993|   258639.0|           4.0|  hip hop|             740.0|                  1|             1|            0|      0|          0|     1|     0|       0|        0|               0|   0|   0|      1|    0|    0|   0|    0|    0|    0|  0|  0|       0|  0|     0|        0|   0|   0|        null|     null|      null|    null|   null|null| null|null| null|        null|   null|null|null|   null|    null| null|    null|    null|   null|      null|             null|        null|     null|    null|        null|         null|      null|         null|         null|       null|              null|         null|      null|     null|         null|          null|       null|          null|          null|           null|           null| null|          null|         null|          null|     null|     null|  null|   null|null|null|null|     null|null|                 0|                0|                 0|        0|        0|      0|      0|     0|     0|    1|       0|         0|      0|      0|      0|     0|      0|     0|        0|      0|    0|       0|     0|          0|          0|     0|   0|          0|     0|       0|        0|    0|     0|          0|     0|     0|  0|  0|       1|          1|          1|    spanish speaking|\n",
            "|   Colombia|https://open.spot...|  60131.15|adan y eva|Paulo Londra|      single|argentine hip hop|        11427104|   FALSE|Adan y Eva|  05-11-2018|           1|              1|       0.767| 0.709|  1|   -4.47|   1|      0.336|    0.323|             0.0|    0.0676|   0.72|171.993|   258639.0|           4.0|  hip hop|             740.0|                  1|             1|            0|      0|          0|     1|     0|       0|        0|               0|   0|   0|      1|    0|    0|   0|    0|    0|    0|  0|  0|       0|  0|     0|        0|   0|   0|        null|     null|      null|    null|   null|null| null|null| null|        null|   null|null|null|   null|    null| null|    null|    null|   null|      null|             null|        null|     null|    null|        null|         null|      null|         null|         null|       null|              null|         null|      null|     null|         null|          null|       null|          null|          null|           null|           null| null|          null|         null|          null|     null|     null|  null|   null|null|null|null|     null|null|                 0|                0|                 0|        0|        0|      0|      0|     0|     0|    0|       1|         0|      0|      0|      0|     0|      0|     0|        0|      0|    0|       0|     0|          0|          0|     0|   0|          0|     0|       0|        0|    0|     0|          0|     0|     0|  0|  0|       2|          1|          1|    spanish speaking|\n",
            "| Costa Rica|https://open.spot...|   64081.3|adan y eva|Paulo Londra|      single|argentine hip hop|        11427104|   FALSE|Adan y Eva|  05-11-2018|           1|              1|       0.767| 0.709|  1|   -4.47|   1|      0.336|    0.323|             0.0|    0.0676|   0.72|171.993|   258639.0|           4.0|  hip hop|             740.0|                  1|             1|            0|      0|          0|     1|     0|       0|        0|               0|   0|   0|      1|    0|    0|   0|    0|    0|    0|  0|  0|       0|  0|     0|        0|   0|   0|        null|     null|      null|    null|   null|null| null|null| null|        null|   null|null|null|   null|    null| null|    null|    null|   null|      null|             null|        null|     null|    null|        null|         null|      null|         null|         null|       null|              null|         null|      null|     null|         null|          null|       null|          null|          null|           null|           null| null|          null|         null|          null|     null|     null|  null|   null|null|null|null|     null|null|                 0|                0|                 0|        0|        0|      0|      0|     0|     0|    0|       0|         1|      0|      0|      0|     0|      0|     0|        0|      0|    0|       0|     0|          0|          0|     0|   0|          0|     0|       0|        0|    0|     0|          0|     0|     0|  0|  0|       1|          1|          1|    spanish speaking|\n",
            "|    Germany|https://open.spot...|       208|adan y eva|Paulo Londra|      single|argentine hip hop|        11427104|   FALSE|Adan y Eva|  05-11-2018|           1|              1|       0.767| 0.709|  1|   -4.47|   1|      0.336|    0.323|             0.0|    0.0676|   0.72|171.993|   258639.0|           4.0|  hip hop|             740.0|                  1|             1|            0|      0|          0|     1|     0|       0|        0|               0|   0|   0|      1|    0|    0|   0|    0|    0|    0|  0|  0|       0|  0|     0|        0|   0|   0|        null|     null|      null|    null|   null|null| null|null| null|        null|   null|null|null|   null|    null| null|    null|    null|   null|      null|             null|        null|     null|    null|        null|         null|      null|         null|         null|       null|              null|         null|      null|     null|         null|          null|       null|          null|          null|           null|           null| null|          null|         null|          null|     null|     null|  null|   null|null|null|null|     null|null|                 0|                0|                 0|        0|        0|      0|      0|     0|     0|    0|       0|         0|      0|      0|      0|     0|      1|     0|        0|      0|    0|       0|     0|          0|          0|     0|   0|          0|     0|       0|        0|    0|     0|          0|     0|     0|  0|  0|     180|          0|          0|english speaking ...|\n",
            "|    Ecuador|https://open.spot...|   75636.9|adan y eva|Paulo Londra|      single|argentine hip hop|        11427104|   FALSE|Adan y Eva|  05-11-2018|           1|              1|       0.767| 0.709|  1|   -4.47|   1|      0.336|    0.323|             0.0|    0.0676|   0.72|171.993|   258639.0|           4.0|  hip hop|             740.0|                  1|             1|            0|      0|          0|     1|     0|       0|        0|               0|   0|   0|      1|    0|    0|   0|    0|    0|    0|  0|  0|       0|  0|     0|        0|   0|   0|        null|     null|      null|    null|   null|null| null|null| null|        null|   null|null|null|   null|    null| null|    null|    null|   null|      null|             null|        null|     null|    null|        null|         null|      null|         null|         null|       null|              null|         null|      null|     null|         null|          null|       null|          null|          null|           null|           null| null|          null|         null|          null|     null|     null|  null|   null|null|null|null|     null|null|                 0|                0|                 0|        0|        0|      0|      0|     0|     0|    0|       0|         0|      0|      1|      0|     0|      0|     0|        0|      0|    0|       0|     0|          0|          0|     0|   0|          0|     0|       0|        0|    0|     0|          0|     0|     0|  0|  0|       1|          1|          1|    spanish speaking|\n",
            "+-----------+--------------------+----------+----------+------------+------------+-----------------+----------------+--------+----------+------------+------------+---------------+------------+------+---+--------+----+-----------+---------+----------------+----------+-------+-------+-----------+--------------+---------+------------------+-------------------+--------------+-------------+-------+-----------+------+------+--------+---------+----------------+----+----+-------+-----+-----+----+-----+-----+-----+---+---+--------+---+------+---------+----+----+------------+---------+----------+--------+-------+----+-----+----+-----+------------+-------+----+----+-------+--------+-----+--------+--------+-------+----------+-----------------+------------+---------+--------+------------+-------------+----------+-------------+-------------+-----------+------------------+-------------+----------+---------+-------------+--------------+-----------+--------------+--------------+---------------+---------------+-----+--------------+-------------+--------------+---------+---------+------+-------+----+----+----+---------+----+------------------+-----------------+------------------+---------+---------+-------+-------+------+------+-----+--------+----------+-------+-------+-------+------+-------+------+---------+-------+-----+--------+------+-----------+-----------+------+----+-----------+------+--------+---------+-----+------+-----------+------+------+---+---+--------+-----------+-----------+--------------------+\n",
            "only showing top 10 rows\n",
            "\n"
          ]
        }
      ]
    },
    {
      "cell_type": "markdown",
      "id": "silver-coach",
      "metadata": {
        "id": "silver-coach"
      },
      "source": [
        "#### Most Popular Genres per decade"
      ]
    },
    {
      "cell_type": "code",
      "execution_count": null,
      "id": "certain-conversion",
      "metadata": {
        "id": "certain-conversion",
        "outputId": "b0049632-bd08-41ac-c518-090a72bd61cc",
        "colab": {
          "base_uri": "https://localhost:8080/"
        }
      },
      "outputs": [
        {
          "output_type": "stream",
          "name": "stdout",
          "text": [
            "+------+-----------------+\n",
            "|Decade|            Genre|\n",
            "+------+-----------------+\n",
            "|  1950|  adult standards|\n",
            "|  1960|  adult standards|\n",
            "|  1970|  adult standards|\n",
            "|  1980|       album rock|\n",
            "|  1990|   classic uk pop|\n",
            "|  2000|alternative metal|\n",
            "|  2010|              pop|\n",
            "|  2020|          hip hop|\n",
            "+------+-----------------+\n",
            "\n"
          ]
        }
      ],
      "source": [
        "popular_genres = spark.sql('SELECT  \\\n",
        "                    ROUND(Year(Release_date), -1) AS Decade, \\\n",
        "                    Genre \\\n",
        "                FROM music_data \\\n",
        "                WHERE ROUND(Year(Release_date), -1) IS NOT NULL \\\n",
        "                GROUP BY Decade, Genre \\\n",
        "                ORDER BY COUNT(Genre) DESC \\\n",
        "                ') \\\n",
        "            .dropDuplicates(subset=['Decade']) \\\n",
        "            .orderBy('Decade') \\\n",
        "            .show()"
      ]
    },
    {
      "cell_type": "markdown",
      "source": [
        "**Music changing over the decades**"
      ],
      "metadata": {
        "id": "0P44Y9gSUTTq"
      },
      "id": "0P44Y9gSUTTq"
    },
    {
      "cell_type": "code",
      "execution_count": null,
      "id": "catholic-cisco",
      "metadata": {
        "id": "catholic-cisco"
      },
      "outputs": [],
      "source": [
        "sound_features = ['danceability', 'energy', 'instrumentalness', 'valence', 'liveliness', 'speechiness', 'acoustics']\n",
        "col_names = ['Decade']\n",
        "col_names.extend(sound_features)\n",
        "music_change = df.sample(.2, seed=42) \\\n",
        "                      .groupBy(F.round(F.year(df.Release_date), -1)) \\\n",
        "                      .agg({feature: 'mean' for feature in sound_features}) \\\n",
        "                      .toDF(*col_names) \\\n",
        "                      .orderBy('Decade') \\\n",
        "                      .toPandas() \\\n",
        "                      .dropna(axis=0)"
      ]
    },
    {
      "cell_type": "code",
      "source": [
        "sns.lineplot(data=pd.melt(music_change, ['Decade']), x='Decade', y='value', hue='variable').set_title('Music Changing over the Decades');"
      ],
      "metadata": {
        "id": "LbYpNX6ZgjsF",
        "colab": {
          "base_uri": "https://localhost:8080/",
          "height": 294
        },
        "outputId": "eadfe742-dede-41b8-c23b-0a5ac24dbcb0"
      },
      "id": "LbYpNX6ZgjsF",
      "execution_count": null,
      "outputs": [
        {
          "output_type": "display_data",
          "data": {
            "image/png": "[encoded data removed]",
            "text/plain": [
              "<Figure size 432x288 with 1 Axes>"
            ]
          },
          "metadata": {}
        }
      ]
    },
    {
      "cell_type": "markdown",
      "source": [
        "**Cosine similarity to see how two songs of a genre are similar**"
      ],
      "metadata": {
        "id": "6Xw6M1bo-IoB"
      },
      "id": "6Xw6M1bo-IoB"
    },
    {
      "cell_type": "code",
      "source": [
        "kpop_songs = spark.sql('SELECT Title, Artist, {} \\\n",
        "                          FROM music_data \\\n",
        "                          WHERE `k-pop` = 1 \\\n",
        "                          ' \\\n",
        "                         .format(', '.join(numerical_features)) \\\n",
        "                        ) \\\n",
        "                    .sample(.1) \\\n",
        "                    .dropna() \\\n",
        "                    .toPandas()\n",
        "rock_songs = spark.sql('SELECT Title, Artist, {} \\\n",
        "                          FROM music_data \\\n",
        "                          WHERE rock = 1 \\\n",
        "                          ' \\\n",
        "                         .format(', '.join(numerical_features)) \\\n",
        "                        ) \\\n",
        "                    .sample(.1) \\\n",
        "                    .dropna() \\\n",
        "                    .toPandas()"
      ],
      "metadata": {
        "id": "ycYtHRbRxyFc"
      },
      "id": "ycYtHRbRxyFc",
      "execution_count": null,
      "outputs": []
    },
    {
      "cell_type": "code",
      "source": [
        "kpop_songs.head()"
      ],
      "metadata": {
        "colab": {
          "base_uri": "https://localhost:8080/",
          "height": 530
        },
        "id": "aaiVnh1D-aoS",
        "outputId": "894058aa-7ac8-47c5-c6d8-f56d2f851d2e"
      },
      "id": "aaiVnh1D-aoS",
      "execution_count": null,
      "outputs": [
        {
          "output_type": "execute_result",
          "data": {
            "text/html": [
              "\n",
              "  <div id=\"df-cb408935-6712-422a-9200-a5832ba3a6d0\">\n",
              "    <div class=\"colab-df-container\">\n",
              "      <div>\n",
              "<style scoped>\n",
              "    .dataframe tbody tr th:only-of-type {\n",
              "        vertical-align: middle;\n",
              "    }\n",
              "\n",
              "    .dataframe tbody tr th {\n",
              "        vertical-align: top;\n",
              "    }\n",
              "\n",
              "    .dataframe thead th {\n",
              "        text-align: right;\n",
              "    }\n",
              "</style>\n",
              "<table border=\"1\" class=\"dataframe\">\n",
              "  <thead>\n",
              "    <tr style=\"text-align: right;\">\n",
              "      <th></th>\n",
              "      <th>Title</th>\n",
              "      <th>Artist</th>\n",
              "      <th>danceability</th>\n",
              "      <th>energy</th>\n",
              "      <th>instrumentalness</th>\n",
              "      <th>valence</th>\n",
              "      <th>liveliness</th>\n",
              "      <th>speechiness</th>\n",
              "      <th>acoustics</th>\n",
              "      <th>speechiness</th>\n",
              "      <th>acoustics</th>\n",
              "      <th>instrumentalness</th>\n",
              "      <th>liveliness</th>\n",
              "      <th>valence</th>\n",
              "      <th>tempo</th>\n",
              "      <th>duration_ms</th>\n",
              "      <th>time_signature</th>\n",
              "      <th>Days_since_release</th>\n",
              "      <th>n_words</th>\n",
              "    </tr>\n",
              "  </thead>\n",
              "  <tbody>\n",
              "    <tr>\n",
              "      <th>0</th>\n",
              "      <td>outnumbered</td>\n",
              "      <td>Dermot Kennedy</td>\n",
              "      <td>0.614</td>\n",
              "      <td>0.684</td>\n",
              "      <td>0.000000</td>\n",
              "      <td>0.258</td>\n",
              "      <td>0.0976</td>\n",
              "      <td>0.1570</td>\n",
              "      <td>0.24700</td>\n",
              "      <td>0.1570</td>\n",
              "      <td>0.24700</td>\n",
              "      <td>0.000000</td>\n",
              "      <td>0.0976</td>\n",
              "      <td>0.258</td>\n",
              "      <td>156.850006</td>\n",
              "      <td>245700.0</td>\n",
              "      <td>4.0</td>\n",
              "      <td>520.0</td>\n",
              "      <td>241.0</td>\n",
              "    </tr>\n",
              "    <tr>\n",
              "      <th>1</th>\n",
              "      <td>chicken noodle soup</td>\n",
              "      <td>j-hope - Becky G</td>\n",
              "      <td>0.826</td>\n",
              "      <td>0.817</td>\n",
              "      <td>0.000011</td>\n",
              "      <td>0.168</td>\n",
              "      <td>0.2940</td>\n",
              "      <td>0.0921</td>\n",
              "      <td>0.00502</td>\n",
              "      <td>0.0921</td>\n",
              "      <td>0.00502</td>\n",
              "      <td>0.000011</td>\n",
              "      <td>0.2940</td>\n",
              "      <td>0.168</td>\n",
              "      <td>97.053001</td>\n",
              "      <td>235497.0</td>\n",
              "      <td>4.0</td>\n",
              "      <td>414.0</td>\n",
              "      <td>474.0</td>\n",
              "    </tr>\n",
              "    <tr>\n",
              "      <th>2</th>\n",
              "      <td>chicken noodle soup</td>\n",
              "      <td>j-hope - Becky G</td>\n",
              "      <td>0.826</td>\n",
              "      <td>0.817</td>\n",
              "      <td>0.000011</td>\n",
              "      <td>0.168</td>\n",
              "      <td>0.2940</td>\n",
              "      <td>0.0921</td>\n",
              "      <td>0.00502</td>\n",
              "      <td>0.0921</td>\n",
              "      <td>0.00502</td>\n",
              "      <td>0.000011</td>\n",
              "      <td>0.2940</td>\n",
              "      <td>0.168</td>\n",
              "      <td>97.053001</td>\n",
              "      <td>235497.0</td>\n",
              "      <td>4.0</td>\n",
              "      <td>414.0</td>\n",
              "      <td>474.0</td>\n",
              "    </tr>\n",
              "    <tr>\n",
              "      <th>3</th>\n",
              "      <td>more</td>\n",
              "      <td>K/DA - Madison Beer - (G)I-DLE - Lexie Liu - J...</td>\n",
              "      <td>0.660</td>\n",
              "      <td>0.787</td>\n",
              "      <td>0.000000</td>\n",
              "      <td>0.199</td>\n",
              "      <td>0.3230</td>\n",
              "      <td>0.0320</td>\n",
              "      <td>0.00257</td>\n",
              "      <td>0.0320</td>\n",
              "      <td>0.00257</td>\n",
              "      <td>0.000000</td>\n",
              "      <td>0.3230</td>\n",
              "      <td>0.199</td>\n",
              "      <td>142.018005</td>\n",
              "      <td>217088.0</td>\n",
              "      <td>4.0</td>\n",
              "      <td>17.0</td>\n",
              "      <td>1344.0</td>\n",
              "    </tr>\n",
              "    <tr>\n",
              "      <th>4</th>\n",
              "      <td>more</td>\n",
              "      <td>K/DA - Madison Beer - (G)I-DLE - Lexie Liu - J...</td>\n",
              "      <td>0.660</td>\n",
              "      <td>0.787</td>\n",
              "      <td>0.000000</td>\n",
              "      <td>0.199</td>\n",
              "      <td>0.3230</td>\n",
              "      <td>0.0320</td>\n",
              "      <td>0.00257</td>\n",
              "      <td>0.0320</td>\n",
              "      <td>0.00257</td>\n",
              "      <td>0.000000</td>\n",
              "      <td>0.3230</td>\n",
              "      <td>0.199</td>\n",
              "      <td>142.018005</td>\n",
              "      <td>217088.0</td>\n",
              "      <td>4.0</td>\n",
              "      <td>17.0</td>\n",
              "      <td>1344.0</td>\n",
              "    </tr>\n",
              "  </tbody>\n",
              "</table>\n",
              "</div>\n",
              "      <button class=\"colab-df-convert\" onclick=\"convertToInteractive('df-cb408935-6712-422a-9200-a5832ba3a6d0')\"\n",
              "              title=\"Convert this dataframe to an interactive table.\"\n",
              "              style=\"display:none;\">\n",
              "        \n",
              "  <svg xmlns=\"http://www.w3.org/2000/svg\" height=\"24px\"viewBox=\"0 0 24 24\"\n",
              "       width=\"24px\">\n",
              "    <path d=\"M0 0h24v24H0V0z\" fill=\"none\"/>\n",
              "    <path d=\"M18.56 5.44l.94 2.06.94-2.06 2.06-.94-2.06-.94-.94-2.06-.94 2.06-2.06.94zm-11 1L8.5 8.5l.94-2.06 2.06-.94-2.06-.94L8.5 2.5l-.94 2.06-2.06.94zm10 10l.94 2.06.94-2.06 2.06-.94-2.06-.94-.94-2.06-.94 2.06-2.06.94z\"/><path d=\"M17.41 7.96l-1.37-1.37c-.4-.4-.92-.59-1.43-.59-.52 0-1.04.2-1.43.59L10.3 9.45l-7.72 7.72c-.78.78-.78 2.05 0 2.83L4 21.41c.39.39.9.59 1.41.59.51 0 1.02-.2 1.41-.59l7.78-7.78 2.81-2.81c.8-.78.8-2.07 0-2.86zM5.41 20L4 18.59l7.72-7.72 1.47 1.35L5.41 20z\"/>\n",
              "  </svg>\n",
              "      </button>\n",
              "      \n",
              "  <style>\n",
              "    .colab-df-container {\n",
              "      display:flex;\n",
              "      flex-wrap:wrap;\n",
              "      gap: 12px;\n",
              "    }\n",
              "\n",
              "    .colab-df-convert {\n",
              "      background-color: #E8F0FE;\n",
              "      border: none;\n",
              "      border-radius: 50%;\n",
              "      cursor: pointer;\n",
              "      display: none;\n",
              "      fill: #1967D2;\n",
              "      height: 32px;\n",
              "      padding: 0 0 0 0;\n",
              "      width: 32px;\n",
              "    }\n",
              "\n",
              "    .colab-df-convert:hover {\n",
              "      background-color: #E2EBFA;\n",
              "      box-shadow: 0px 1px 2px rgba(60, 64, 67, 0.3), 0px 1px 3px 1px rgba(60, 64, 67, 0.15);\n",
              "      fill: #174EA6;\n",
              "    }\n",
              "\n",
              "    [theme=dark] .colab-df-convert {\n",
              "      background-color: #3B4455;\n",
              "      fill: #D2E3FC;\n",
              "    }\n",
              "\n",
              "    [theme=dark] .colab-df-convert:hover {\n",
              "      background-color: #434B5C;\n",
              "      box-shadow: 0px 1px 3px 1px rgba(0, 0, 0, 0.15);\n",
              "      filter: drop-shadow(0px 1px 2px rgba(0, 0, 0, 0.3));\n",
              "      fill: #FFFFFF;\n",
              "    }\n",
              "  </style>\n",
              "\n",
              "      <script>\n",
              "        const buttonEl =\n",
              "          document.querySelector('#df-cb408935-6712-422a-9200-a5832ba3a6d0 button.colab-df-convert');\n",
              "        buttonEl.style.display =\n",
              "          google.colab.kernel.accessAllowed ? 'block' : 'none';\n",
              "\n",
              "        async function convertToInteractive(key) {\n",
              "          const element = document.querySelector('#df-cb408935-6712-422a-9200-a5832ba3a6d0');\n",
              "          const dataTable =\n",
              "            await google.colab.kernel.invokeFunction('convertToInteractive',\n",
              "                                                     [key], {});\n",
              "          if (!dataTable) return;\n",
              "\n",
              "          const docLinkHtml = 'Like what you see? Visit the ' +\n",
              "            '<a target=\"_blank\" href=https://colab.research.google.com/notebooks/data_table.ipynb>data table notebook</a>'\n",
              "            + ' to learn more about interactive tables.';\n",
              "          element.innerHTML = '';\n",
              "          dataTable['output_type'] = 'display_data';\n",
              "          await google.colab.output.renderOutput(dataTable, element);\n",
              "          const docLink = document.createElement('div');\n",
              "          docLink.innerHTML = docLinkHtml;\n",
              "          element.appendChild(docLink);\n",
              "        }\n",
              "      </script>\n",
              "    </div>\n",
              "  </div>\n",
              "  "
            ],
            "text/plain": [
              "                 Title  ... n_words\n",
              "0          outnumbered  ...   241.0\n",
              "1  chicken noodle soup  ...   474.0\n",
              "2  chicken noodle soup  ...   474.0\n",
              "3                 more  ...  1344.0\n",
              "4                 more  ...  1344.0\n",
              "\n",
              "[5 rows x 19 columns]"
            ]
          },
          "metadata": {},
          "execution_count": 235
        }
      ]
    },
    {
      "cell_type": "code",
      "source": [
        "rock_songs.head()"
      ],
      "metadata": {
        "colab": {
          "base_uri": "https://localhost:8080/",
          "height": 374
        },
        "id": "abqkJqyR_xMR",
        "outputId": "01c61f69-b7e7-44b9-b938-b74b66331582"
      },
      "id": "abqkJqyR_xMR",
      "execution_count": null,
      "outputs": [
        {
          "output_type": "execute_result",
          "data": {
            "text/html": [
              "\n",
              "  <div id=\"df-be91d51c-2f24-4dab-8652-9e0a727bc7f0\">\n",
              "    <div class=\"colab-df-container\">\n",
              "      <div>\n",
              "<style scoped>\n",
              "    .dataframe tbody tr th:only-of-type {\n",
              "        vertical-align: middle;\n",
              "    }\n",
              "\n",
              "    .dataframe tbody tr th {\n",
              "        vertical-align: top;\n",
              "    }\n",
              "\n",
              "    .dataframe thead th {\n",
              "        text-align: right;\n",
              "    }\n",
              "</style>\n",
              "<table border=\"1\" class=\"dataframe\">\n",
              "  <thead>\n",
              "    <tr style=\"text-align: right;\">\n",
              "      <th></th>\n",
              "      <th>Title</th>\n",
              "      <th>Artist</th>\n",
              "      <th>danceability</th>\n",
              "      <th>energy</th>\n",
              "      <th>instrumentalness</th>\n",
              "      <th>valence</th>\n",
              "      <th>liveliness</th>\n",
              "      <th>speechiness</th>\n",
              "      <th>acoustics</th>\n",
              "      <th>speechiness</th>\n",
              "      <th>acoustics</th>\n",
              "      <th>instrumentalness</th>\n",
              "      <th>liveliness</th>\n",
              "      <th>valence</th>\n",
              "      <th>tempo</th>\n",
              "      <th>duration_ms</th>\n",
              "      <th>time_signature</th>\n",
              "      <th>Days_since_release</th>\n",
              "      <th>n_words</th>\n",
              "    </tr>\n",
              "  </thead>\n",
              "  <tbody>\n",
              "    <tr>\n",
              "      <th>0</th>\n",
              "      <td>mary janes last dance</td>\n",
              "      <td>Tom Petty and the Heartbreakers</td>\n",
              "      <td>0.451</td>\n",
              "      <td>0.669</td>\n",
              "      <td>0.000000</td>\n",
              "      <td>0.523</td>\n",
              "      <td>0.1530</td>\n",
              "      <td>0.0651</td>\n",
              "      <td>0.0267</td>\n",
              "      <td>0.0651</td>\n",
              "      <td>0.0267</td>\n",
              "      <td>0.000000</td>\n",
              "      <td>0.1530</td>\n",
              "      <td>0.523</td>\n",
              "      <td>169.632004</td>\n",
              "      <td>272133.0</td>\n",
              "      <td>4.0</td>\n",
              "      <td>9851.0</td>\n",
              "      <td>241.0</td>\n",
              "    </tr>\n",
              "    <tr>\n",
              "      <th>1</th>\n",
              "      <td>highway to hell</td>\n",
              "      <td>AC/DC</td>\n",
              "      <td>0.574</td>\n",
              "      <td>0.913</td>\n",
              "      <td>0.001580</td>\n",
              "      <td>0.423</td>\n",
              "      <td>0.1560</td>\n",
              "      <td>0.1330</td>\n",
              "      <td>0.0610</td>\n",
              "      <td>0.1330</td>\n",
              "      <td>0.0610</td>\n",
              "      <td>0.001580</td>\n",
              "      <td>0.1560</td>\n",
              "      <td>0.423</td>\n",
              "      <td>115.727997</td>\n",
              "      <td>208400.0</td>\n",
              "      <td>4.0</td>\n",
              "      <td>15077.0</td>\n",
              "      <td>142.0</td>\n",
              "    </tr>\n",
              "    <tr>\n",
              "      <th>2</th>\n",
              "      <td>highway to hell</td>\n",
              "      <td>AC/DC</td>\n",
              "      <td>0.574</td>\n",
              "      <td>0.913</td>\n",
              "      <td>0.001580</td>\n",
              "      <td>0.423</td>\n",
              "      <td>0.1560</td>\n",
              "      <td>0.1330</td>\n",
              "      <td>0.0610</td>\n",
              "      <td>0.1330</td>\n",
              "      <td>0.0610</td>\n",
              "      <td>0.001580</td>\n",
              "      <td>0.1560</td>\n",
              "      <td>0.423</td>\n",
              "      <td>115.727997</td>\n",
              "      <td>208400.0</td>\n",
              "      <td>4.0</td>\n",
              "      <td>15077.0</td>\n",
              "      <td>142.0</td>\n",
              "    </tr>\n",
              "    <tr>\n",
              "      <th>3</th>\n",
              "      <td>highway to hell</td>\n",
              "      <td>AC/DC</td>\n",
              "      <td>0.574</td>\n",
              "      <td>0.913</td>\n",
              "      <td>0.001580</td>\n",
              "      <td>0.423</td>\n",
              "      <td>0.1560</td>\n",
              "      <td>0.1330</td>\n",
              "      <td>0.0610</td>\n",
              "      <td>0.1330</td>\n",
              "      <td>0.0610</td>\n",
              "      <td>0.001580</td>\n",
              "      <td>0.1560</td>\n",
              "      <td>0.423</td>\n",
              "      <td>115.727997</td>\n",
              "      <td>208400.0</td>\n",
              "      <td>4.0</td>\n",
              "      <td>15077.0</td>\n",
              "      <td>142.0</td>\n",
              "    </tr>\n",
              "    <tr>\n",
              "      <th>4</th>\n",
              "      <td>the man</td>\n",
              "      <td>The Killers</td>\n",
              "      <td>0.612</td>\n",
              "      <td>0.942</td>\n",
              "      <td>0.000006</td>\n",
              "      <td>0.474</td>\n",
              "      <td>0.0867</td>\n",
              "      <td>0.1220</td>\n",
              "      <td>0.0776</td>\n",
              "      <td>0.1220</td>\n",
              "      <td>0.0776</td>\n",
              "      <td>0.000006</td>\n",
              "      <td>0.0867</td>\n",
              "      <td>0.474</td>\n",
              "      <td>106.039001</td>\n",
              "      <td>248400.0</td>\n",
              "      <td>4.0</td>\n",
              "      <td>1249.0</td>\n",
              "      <td>346.0</td>\n",
              "    </tr>\n",
              "  </tbody>\n",
              "</table>\n",
              "</div>\n",
              "      <button class=\"colab-df-convert\" onclick=\"convertToInteractive('df-be91d51c-2f24-4dab-8652-9e0a727bc7f0')\"\n",
              "              title=\"Convert this dataframe to an interactive table.\"\n",
              "              style=\"display:none;\">\n",
              "        \n",
              "  <svg xmlns=\"http://www.w3.org/2000/svg\" height=\"24px\"viewBox=\"0 0 24 24\"\n",
              "       width=\"24px\">\n",
              "    <path d=\"M0 0h24v24H0V0z\" fill=\"none\"/>\n",
              "    <path d=\"M18.56 5.44l.94 2.06.94-2.06 2.06-.94-2.06-.94-.94-2.06-.94 2.06-2.06.94zm-11 1L8.5 8.5l.94-2.06 2.06-.94-2.06-.94L8.5 2.5l-.94 2.06-2.06.94zm10 10l.94 2.06.94-2.06 2.06-.94-2.06-.94-.94-2.06-.94 2.06-2.06.94z\"/><path d=\"M17.41 7.96l-1.37-1.37c-.4-.4-.92-.59-1.43-.59-.52 0-1.04.2-1.43.59L10.3 9.45l-7.72 7.72c-.78.78-.78 2.05 0 2.83L4 21.41c.39.39.9.59 1.41.59.51 0 1.02-.2 1.41-.59l7.78-7.78 2.81-2.81c.8-.78.8-2.07 0-2.86zM5.41 20L4 18.59l7.72-7.72 1.47 1.35L5.41 20z\"/>\n",
              "  </svg>\n",
              "      </button>\n",
              "      \n",
              "  <style>\n",
              "    .colab-df-container {\n",
              "      display:flex;\n",
              "      flex-wrap:wrap;\n",
              "      gap: 12px;\n",
              "    }\n",
              "\n",
              "    .colab-df-convert {\n",
              "      background-color: #E8F0FE;\n",
              "      border: none;\n",
              "      border-radius: 50%;\n",
              "      cursor: pointer;\n",
              "      display: none;\n",
              "      fill: #1967D2;\n",
              "      height: 32px;\n",
              "      padding: 0 0 0 0;\n",
              "      width: 32px;\n",
              "    }\n",
              "\n",
              "    .colab-df-convert:hover {\n",
              "      background-color: #E2EBFA;\n",
              "      box-shadow: 0px 1px 2px rgba(60, 64, 67, 0.3), 0px 1px 3px 1px rgba(60, 64, 67, 0.15);\n",
              "      fill: #174EA6;\n",
              "    }\n",
              "\n",
              "    [theme=dark] .colab-df-convert {\n",
              "      background-color: #3B4455;\n",
              "      fill: #D2E3FC;\n",
              "    }\n",
              "\n",
              "    [theme=dark] .colab-df-convert:hover {\n",
              "      background-color: #434B5C;\n",
              "      box-shadow: 0px 1px 3px 1px rgba(0, 0, 0, 0.15);\n",
              "      filter: drop-shadow(0px 1px 2px rgba(0, 0, 0, 0.3));\n",
              "      fill: #FFFFFF;\n",
              "    }\n",
              "  </style>\n",
              "\n",
              "      <script>\n",
              "        const buttonEl =\n",
              "          document.querySelector('#df-be91d51c-2f24-4dab-8652-9e0a727bc7f0 button.colab-df-convert');\n",
              "        buttonEl.style.display =\n",
              "          google.colab.kernel.accessAllowed ? 'block' : 'none';\n",
              "\n",
              "        async function convertToInteractive(key) {\n",
              "          const element = document.querySelector('#df-be91d51c-2f24-4dab-8652-9e0a727bc7f0');\n",
              "          const dataTable =\n",
              "            await google.colab.kernel.invokeFunction('convertToInteractive',\n",
              "                                                     [key], {});\n",
              "          if (!dataTable) return;\n",
              "\n",
              "          const docLinkHtml = 'Like what you see? Visit the ' +\n",
              "            '<a target=\"_blank\" href=https://colab.research.google.com/notebooks/data_table.ipynb>data table notebook</a>'\n",
              "            + ' to learn more about interactive tables.';\n",
              "          element.innerHTML = '';\n",
              "          dataTable['output_type'] = 'display_data';\n",
              "          await google.colab.output.renderOutput(dataTable, element);\n",
              "          const docLink = document.createElement('div');\n",
              "          docLink.innerHTML = docLinkHtml;\n",
              "          element.appendChild(docLink);\n",
              "        }\n",
              "      </script>\n",
              "    </div>\n",
              "  </div>\n",
              "  "
            ],
            "text/plain": [
              "                   Title  ... n_words\n",
              "0  mary janes last dance  ...   241.0\n",
              "1        highway to hell  ...   142.0\n",
              "2        highway to hell  ...   142.0\n",
              "3        highway to hell  ...   142.0\n",
              "4                the man  ...   346.0\n",
              "\n",
              "[5 rows x 19 columns]"
            ]
          },
          "metadata": {},
          "execution_count": 236
        }
      ]
    },
    {
      "cell_type": "code",
      "source": [
        "from scipy import spatial\n",
        "from sklearn.preprocessing import Normalizer\n",
        "from sklearn.preprocessing import MinMaxScaler\n",
        "scaler = MinMaxScaler()\n",
        "transformer = Normalizer()"
      ],
      "metadata": {
        "id": "BFsEjEmL_5ew"
      },
      "id": "BFsEjEmL_5ew",
      "execution_count": null,
      "outputs": []
    },
    {
      "cell_type": "markdown",
      "source": [
        "Dropping the first 2 columns i.e the title and the artist from the dataframe because it includes strings"
      ],
      "metadata": {
        "id": "xxxp1Ao3BDm_"
      },
      "id": "xxxp1Ao3BDm_"
    },
    {
      "cell_type": "code",
      "source": [
        "scaled_kpop_df = scaler.fit_transform(kpop_songs.iloc[:, 2:])\n",
        "scaled_rock_df = scaler.fit_transform(rock_songs.iloc[:, 2:])"
      ],
      "metadata": {
        "id": "jL2fOicAAC6g"
      },
      "id": "jL2fOicAAC6g",
      "execution_count": null,
      "outputs": []
    },
    {
      "cell_type": "markdown",
      "source": [
        "Cosine similarity of a rock and a k-pop song"
      ],
      "metadata": {
        "id": "iVHdnHgfAXW4"
      },
      "id": "iVHdnHgfAXW4"
    },
    {
      "cell_type": "code",
      "source": [
        "song1 = np.array(scaled_rock_df[1])\n",
        "song2 = np.array(scaled_kpop_df[2])\n",
        "result = 1 - spatial.distance.cosine(song1, song2)\n",
        "print(result)"
      ],
      "metadata": {
        "colab": {
          "base_uri": "https://localhost:8080/"
        },
        "id": "UjG44gdlARPW",
        "outputId": "6ec11407-fa8b-410b-d058-859b323c24ef"
      },
      "id": "UjG44gdlARPW",
      "execution_count": null,
      "outputs": [
        {
          "output_type": "stream",
          "name": "stdout",
          "text": [
            "0.811601459980011\n"
          ]
        }
      ]
    },
    {
      "cell_type": "markdown",
      "source": [
        "Cosine similarity of 2 rock songs"
      ],
      "metadata": {
        "id": "142NINuuAhmW"
      },
      "id": "142NINuuAhmW"
    },
    {
      "cell_type": "code",
      "source": [
        "song1 = np.array(scaled_rock_df[1])\n",
        "song2 = np.array(scaled_rock_df[10])\n",
        "result = 1 - spatial.distance.cosine(song1, song2)\n",
        "print(result)"
      ],
      "metadata": {
        "colab": {
          "base_uri": "https://localhost:8080/"
        },
        "id": "a4lL6neEAeIf",
        "outputId": "a950ab22-a6bc-4a81-f25a-add4d634b851"
      },
      "id": "a4lL6neEAeIf",
      "execution_count": null,
      "outputs": [
        {
          "output_type": "stream",
          "name": "stdout",
          "text": [
            "0.779110848903656\n"
          ]
        }
      ]
    },
    {
      "cell_type": "markdown",
      "source": [
        "Cosine similarity of 2 k-pop songs"
      ],
      "metadata": {
        "id": "wrczs-LkAwFU"
      },
      "id": "wrczs-LkAwFU"
    },
    {
      "cell_type": "code",
      "source": [
        "song1 = np.array(scaled_kpop_df[1])\n",
        "song2 = np.array(scaled_kpop_df[10])\n",
        "result = 1 - spatial.distance.cosine(song1, song2)\n",
        "print(result)"
      ],
      "metadata": {
        "colab": {
          "base_uri": "https://localhost:8080/"
        },
        "id": "mQ1bQntuAok2",
        "outputId": "b5cb6dad-e580-41fc-e502-61830a7404f7"
      },
      "id": "mQ1bQntuAok2",
      "execution_count": null,
      "outputs": [
        {
          "output_type": "stream",
          "name": "stdout",
          "text": [
            "0.782811164855957\n"
          ]
        }
      ]
    },
    {
      "cell_type": "markdown",
      "source": [
        "# Recommendation Engine Using Cosine Similarity\n"
      ],
      "metadata": {
        "id": "Jk07nuOxTAJS"
      },
      "id": "Jk07nuOxTAJS"
    },
    {
      "cell_type": "code",
      "source": [
        "# features = ['Artist', 'Genre']\n",
        "df.na.fill(\" \")\n",
        "# df.dtypes"
      ],
      "metadata": {
        "colab": {
          "base_uri": "https://localhost:8080/"
        },
        "id": "8zq4eLMysofu",
        "outputId": "a80fca3c-f4f1-4906-d712-8821adec2061"
      },
      "id": "8zq4eLMysofu",
      "execution_count": null,
      "outputs": [
        {
          "output_type": "execute_result",
          "data": {
            "text/plain": [
              "DataFrame[Country0: string, Uri: string, Popularity: string, Title: string, Artist: string, Album/Single: string, Genre: string, Artist_followers: string, Explicit: string, Album9: string, Release_date: string, Track_number: string, Tracks_in_album: string, danceability: string, energy: string, key: string, loudness: string, mode: string, speechiness: string, acoustics: string, instrumentalness: string, liveliness: string, valence: string, tempo: string, duration_ms: string, time_signature: string, Genre_new: string, Days_since_release: string, Released_after_2017: string, Explicit_false: string, Explicit_true: string, album31: string, compilation: string, single: string, bolero: string, boy band: string, country36: string, dance/electronic: string, else: string, funk: string, hip hop: string, house: string, indie: string, jazz: string, k-pop: string, latin: string, metal: string, opm: string, pop: string, r&b/soul: string, rap: string, reggae: string, reggaeton: string, rock: string, trap: string, syuzhet_norm: string, bing_norm: string, afinn_norm: string, nrc_norm: string, syuzhet: string, bing: string, afinn: string, nrc: string, anger: string, anticipation: string, disgust: string, fear: string, joy: string, sadness: string, surprise: string, trust: string, negative: string, positive: string, n_words: string, anger_norm: string, anticipation_norm: string, disgust_norm: string, fear_norm: string, joy_norm: string, sadness_norm: string, surprise_norm: string, trust_norm: string, negative_norm: string, positive_norm: string, anger_norm2: string, anticipation_norm2: string, disgust_norm2: string, fear_norm2: string, joy_norm2: string, sadness_norm2: string, surprise_norm2: string, trust_norm2: string, negative_norm2: string, positive_norm2: string, negative_bog_jr: string, positive_bog_jr: string, Bayes: string, Negative_Bayes: string, Neutral_Bayes: string, Positive_Bayes: string, LDA_Topic: string, Celebrate: string, Desire: string, Explore: string, Fun: string, Hope: string, Love: string, Nostalgia: string, Thug: string, bing_norm_negative: string, bing_norm_neutral: string, bing_norm_positive: string, Argentina: string, Australia: string, Austria: string, Belgium: string, Brazil: string, Canada: string, Chile: string, Colombia: string, Costa Rica: string, Denmark: string, Ecuador: string, Finland: string, France: string, Germany: string, Global: string, Indonesia: string, Ireland: string, Italy: string, Malaysia: string, Mexico: string, Netherlands: string, New Zealand: string, Norway: string, Peru: string, Philippines: string, Poland: string, Portugal: string, Singapore: string, Spain: string, Sweden: string, Switzerland: string, Taiwan: string, Turkey: string, UK: string, USA: string, Popu_max: string, Top10_dummy: string, Top50_dummy: string, Cluster: string]"
            ]
          },
          "metadata": {},
          "execution_count": 242
        }
      ]
    },
    {
      "cell_type": "code",
      "source": [
        "from pyspark.sql.functions import regexp_replace\n",
        "recommend_df_copy= spark.read.option(\"header\",True).csv(data)\n",
        "recommend_df= recommend_df_copy.where(\"Country0 == 'Global'\")\n",
        "\n",
        "print(recommend_df_copy.count())\n",
        "print(recommend_df.count())\n",
        "print(recommend_df.distinct().count())\n",
        "from pyspark.sql.functions import desc, row_number, monotonically_increasing_id\n",
        "from pyspark.sql.window import Window\n",
        "\n",
        "recommend_df = recommend_df.withColumn('Index', row_number().over(Window.orderBy(monotonically_increasing_id())))\n",
        "recommend_df=recommend_df.withColumn('Genre', regexp_replace('Genre', 'n-a', ' '))\n",
        "recommend_df.registerTempTable(\"recommend\")\n",
        "spark.sql('SELECT Index,Country0, Title,Artist, Genre, Popularity,danceability FROM recommend').show(20)"
      ],
      "metadata": {
        "id": "NM-PmFutTEoN",
        "colab": {
          "base_uri": "https://localhost:8080/"
        },
        "outputId": "f3534417-6908-4435-8b5b-5403aad4bad8"
      },
      "id": "NM-PmFutTEoN",
      "execution_count": null,
      "outputs": [
        {
          "output_type": "stream",
          "name": "stdout",
          "text": [
            "89199\n",
            "5461\n",
            "5461\n",
            "+-----+--------+--------------------+--------------------+-------------------+----------+------------+\n",
            "|Index|Country0|               Title|              Artist|              Genre|Popularity|danceability|\n",
            "+-----+--------+--------------------+--------------------+-------------------+----------+------------+\n",
            "|    1|  Global|          adan y eva|        Paulo Londra|  argentine hip hop|  31833.95|       0.767|\n",
            "|    2|  Global|     it wont kill ya|The Chainsmokers ...|          dance pop|       418|       0.572|\n",
            "|    3|  Global|                hymn|               Kesha|          dance pop|        56|       0.488|\n",
            "|    4|  Global|              arrows|        Foo Fighters|  alternative metal|      78.4|       0.515|\n",
            "|    5|  Global|   talking to myself|         Linkin Park|  alternative metal|    244.95|       0.593|\n",
            "|    6|  Global|                 icy|  Logic - Gucci Mane|  conscious hip hop|    316.65|       0.827|\n",
            "|    7|  Global|       club paradise|               Drake|   canadian hip hop|      88.4|       0.338|\n",
            "|    8|  Global|versace on the floor|          Bruno Mars|          dance pop|    7959.5|       0.578|\n",
            "|    9|  Global|             canguro|                 WOS|    argentine indie|     891.2|       0.602|\n",
            "|   10|  Global|             sixteen|      Ellie Goulding|          dance pop|   6575.75|       0.669|\n",
            "|   11|  Global|            betrayed|             Lil Xan|            emo rap|    1213.6|       0.821|\n",
            "|   12|  Global| figurinha - ao vivo|Douglas & Viniciu...|      sertanejo pop|       9.6|       0.591|\n",
            "|   13|  Global|               japan|          Famous Dex|        chicago rap|   1260.05|       0.733|\n",
            "|   14|  Global|                 how|            Lil Baby|        atl hip hop|      76.8|       0.582|\n",
            "|   15|  Global|     black spiderman|Logic - Damian Le...|  conscious hip hop|       616|       0.611|\n",
            "|   16|  Global|marys boy child /...|            Boney M.|              disco|     529.2|       0.781|\n",
            "|   17|  Global|              eleven|Khalid - Summer W...|    alternative r&b|      34.4|       0.679|\n",
            "|   18|  Global|          to die for|           Sam Smith|                pop|   6459.65|       0.483|\n",
            "|   19|  Global|          wir ticken| Capital Bra - Samra|     german hip hop|    1105.5|        0.63|\n",
            "|   20|  Global|             momentz|Gorillaz - De La ...|alternative hip hop|        92|       0.781|\n",
            "+-----+--------+--------------------+--------------------+-------------------+----------+------------+\n",
            "only showing top 20 rows\n",
            "\n"
          ]
        }
      ]
    },
    {
      "cell_type": "markdown",
      "source": [
        "Recommendation of songs based on Danceability,Genre,Energy,Loudness,Instrumentalness,Mode and Duration of the song in ms."
      ],
      "metadata": {
        "id": "sewR7biO8iBS"
      },
      "id": "sewR7biO8iBS"
    },
    {
      "cell_type": "code",
      "source": [
        "from pyspark.sql.functions import concat,col,lit\n",
        "r_df=recommend_df.withColumn(\"Combined_Features\", (concat(col(\"Genre\"), lit(\" \"),col(\"danceability\"),lit(\" \"),col(\"energy\"),lit(\" \"),col(\"loudness\"),lit(\" \"),col(\"instrumentalness\"),lit(\" \"),col(\"mode\"),lit(\" \"),col(\"duration_ms\"))))\n",
        "def string_to_list(row):\n",
        "    return row.split(' ')\n",
        "\n",
        "from pyspark.sql.functions import udf,col\n",
        "from pyspark.sql.types import StringType, ArrayType\n",
        "\n",
        "s_to_l = udf(lambda row: string_to_list(row),ArrayType(StringType()) )\n",
        "r_df=r_df.withColumn(\"feature\",s_to_l(col(\"Combined_Features\")))\n",
        "#r_df = df.withColumn(\"feature\", convert_string_to_list(\"Combined_features\"))\n",
        "r_df.registerTempTable(\"updated_recommend\")\n",
        "spark.sql('SELECT Index,Title,Artist,Genre,Release_date,Combined_Features, feature FROM updated_recommend').toPandas().head(50)"
      ],
      "metadata": {
        "id": "tk5DTsUUT_7a",
        "colab": {
          "base_uri": "https://localhost:8080/",
          "height": 1000
        },
        "outputId": "cb170130-1414-40e2-d378-6e12e49de5a1"
      },
      "id": "tk5DTsUUT_7a",
      "execution_count": null,
      "outputs": [
        {
          "output_type": "execute_result",
          "data": {
            "text/html": [
              "\n",
              "  <div id=\"df-a43856bf-07fa-4388-8f56-8f355df68283\">\n",
              "    <div class=\"colab-df-container\">\n",
              "      <div>\n",
              "<style scoped>\n",
              "    .dataframe tbody tr th:only-of-type {\n",
              "        vertical-align: middle;\n",
              "    }\n",
              "\n",
              "    .dataframe tbody tr th {\n",
              "        vertical-align: top;\n",
              "    }\n",
              "\n",
              "    .dataframe thead th {\n",
              "        text-align: right;\n",
              "    }\n",
              "</style>\n",
              "<table border=\"1\" class=\"dataframe\">\n",
              "  <thead>\n",
              "    <tr style=\"text-align: right;\">\n",
              "      <th></th>\n",
              "      <th>Index</th>\n",
              "      <th>Title</th>\n",
              "      <th>Artist</th>\n",
              "      <th>Genre</th>\n",
              "      <th>Release_date</th>\n",
              "      <th>Combined_Features</th>\n",
              "      <th>feature</th>\n",
              "    </tr>\n",
              "  </thead>\n",
              "  <tbody>\n",
              "    <tr>\n",
              "      <th>0</th>\n",
              "      <td>1</td>\n",
              "      <td>adan y eva</td>\n",
              "      <td>Paulo Londra</td>\n",
              "      <td>argentine hip hop</td>\n",
              "      <td>05-11-2018</td>\n",
              "      <td>argentine hip hop 0.767 0.709 -4.47 0 1 258639</td>\n",
              "      <td>[argentine, hip, hop, 0.767, 0.709, -4.47, 0, ...</td>\n",
              "    </tr>\n",
              "    <tr>\n",
              "      <th>1</th>\n",
              "      <td>2</td>\n",
              "      <td>it wont kill ya</td>\n",
              "      <td>The Chainsmokers - Louane</td>\n",
              "      <td>dance pop</td>\n",
              "      <td>07-04-2017</td>\n",
              "      <td>dance pop 0.572 0.53 -8.521 0.000169 0 217613</td>\n",
              "      <td>[dance, pop, 0.572, 0.53, -8.521, 0.000169, 0,...</td>\n",
              "    </tr>\n",
              "    <tr>\n",
              "      <th>2</th>\n",
              "      <td>3</td>\n",
              "      <td>hymn</td>\n",
              "      <td>Kesha</td>\n",
              "      <td>dance pop</td>\n",
              "      <td>03-08-2017</td>\n",
              "      <td>dance pop 0.488 0.538 -4.974 0 1 205600</td>\n",
              "      <td>[dance, pop, 0.488, 0.538, -4.974, 0, 1, 205600]</td>\n",
              "    </tr>\n",
              "    <tr>\n",
              "      <th>3</th>\n",
              "      <td>4</td>\n",
              "      <td>arrows</td>\n",
              "      <td>Foo Fighters</td>\n",
              "      <td>alternative metal</td>\n",
              "      <td>15-09-2017</td>\n",
              "      <td>alternative metal 0.515 0.917 -7.312 0.000476 ...</td>\n",
              "      <td>[alternative, metal, 0.515, 0.917, -7.312, 0.0...</td>\n",
              "    </tr>\n",
              "    <tr>\n",
              "      <th>4</th>\n",
              "      <td>5</td>\n",
              "      <td>talking to myself</td>\n",
              "      <td>Linkin Park</td>\n",
              "      <td>alternative metal</td>\n",
              "      <td>19-05-2017</td>\n",
              "      <td>alternative metal 0.593 0.712 -6.325 0 0 231307</td>\n",
              "      <td>[alternative, metal, 0.593, 0.712, -6.325, 0, ...</td>\n",
              "    </tr>\n",
              "    <tr>\n",
              "      <th>5</th>\n",
              "      <td>6</td>\n",
              "      <td>icy</td>\n",
              "      <td>Logic - Gucci Mane</td>\n",
              "      <td>conscious hip hop</td>\n",
              "      <td>10-05-2019</td>\n",
              "      <td>conscious hip hop 0.827 0.522 -4.866 1.19E-06 ...</td>\n",
              "      <td>[conscious, hip, hop, 0.827, 0.522, -4.866, 1....</td>\n",
              "    </tr>\n",
              "    <tr>\n",
              "      <th>6</th>\n",
              "      <td>7</td>\n",
              "      <td>club paradise</td>\n",
              "      <td>Drake</td>\n",
              "      <td>canadian hip hop</td>\n",
              "      <td>02-08-2019</td>\n",
              "      <td>canadian hip hop 0.338 0.729 -6.419 3.24E-05 0...</td>\n",
              "      <td>[canadian, hip, hop, 0.338, 0.729, -6.419, 3.2...</td>\n",
              "    </tr>\n",
              "    <tr>\n",
              "      <th>7</th>\n",
              "      <td>8</td>\n",
              "      <td>versace on the floor</td>\n",
              "      <td>Bruno Mars</td>\n",
              "      <td>dance pop</td>\n",
              "      <td>17-11-2016</td>\n",
              "      <td>dance pop 0.578 0.574 -6.209 0 1 261240</td>\n",
              "      <td>[dance, pop, 0.578, 0.574, -6.209, 0, 1, 261240]</td>\n",
              "    </tr>\n",
              "    <tr>\n",
              "      <th>8</th>\n",
              "      <td>9</td>\n",
              "      <td>canguro</td>\n",
              "      <td>WOS</td>\n",
              "      <td>argentine indie</td>\n",
              "      <td>09-08-2019</td>\n",
              "      <td>argentine indie 0.602 0.751 -4.358 0 1 196745</td>\n",
              "      <td>[argentine, indie, 0.602, 0.751, -4.358, 0, 1,...</td>\n",
              "    </tr>\n",
              "    <tr>\n",
              "      <th>9</th>\n",
              "      <td>10</td>\n",
              "      <td>sixteen</td>\n",
              "      <td>Ellie Goulding</td>\n",
              "      <td>dance pop</td>\n",
              "      <td>12-04-2019</td>\n",
              "      <td>dance pop 0.669 0.801 -5.445 0 1 201072</td>\n",
              "      <td>[dance, pop, 0.669, 0.801, -5.445, 0, 1, 201072]</td>\n",
              "    </tr>\n",
              "    <tr>\n",
              "      <th>10</th>\n",
              "      <td>11</td>\n",
              "      <td>betrayed</td>\n",
              "      <td>Lil Xan</td>\n",
              "      <td>emo rap</td>\n",
              "      <td>06-04-2018</td>\n",
              "      <td>emo rap 0.821 0.434 -9.194 0 0 187173</td>\n",
              "      <td>[emo, rap, 0.821, 0.434, -9.194, 0, 0, 187173]</td>\n",
              "    </tr>\n",
              "    <tr>\n",
              "      <th>11</th>\n",
              "      <td>12</td>\n",
              "      <td>figurinha - ao vivo</td>\n",
              "      <td>Douglas &amp; Vinicius - MC Bruninho</td>\n",
              "      <td>sertanejo pop</td>\n",
              "      <td>10-07-2020</td>\n",
              "      <td>sertanejo pop 0.591 0.757 -3.322 0 1 206002</td>\n",
              "      <td>[sertanejo, pop, 0.591, 0.757, -3.322, 0, 1, 2...</td>\n",
              "    </tr>\n",
              "    <tr>\n",
              "      <th>12</th>\n",
              "      <td>13</td>\n",
              "      <td>japan</td>\n",
              "      <td>Famous Dex</td>\n",
              "      <td>chicago rap</td>\n",
              "      <td>16-03-2018</td>\n",
              "      <td>chicago rap 0.733 0.678 -7.771 0 1 144149</td>\n",
              "      <td>[chicago, rap, 0.733, 0.678, -7.771, 0, 1, 144...</td>\n",
              "    </tr>\n",
              "    <tr>\n",
              "      <th>13</th>\n",
              "      <td>14</td>\n",
              "      <td>how</td>\n",
              "      <td>Lil Baby</td>\n",
              "      <td>atl hip hop</td>\n",
              "      <td>28-02-2020</td>\n",
              "      <td>atl hip hop 0.582 0.488 -8.208 0 1 182000</td>\n",
              "      <td>[atl, hip, hop, 0.582, 0.488, -8.208, 0, 1, 18...</td>\n",
              "    </tr>\n",
              "    <tr>\n",
              "      <th>14</th>\n",
              "      <td>15</td>\n",
              "      <td>black spiderman</td>\n",
              "      <td>Logic - Damian Lemar Hudson</td>\n",
              "      <td>conscious hip hop</td>\n",
              "      <td>05-05-2017</td>\n",
              "      <td>conscious hip hop 0.611 0.867 -5.298 0.000105 ...</td>\n",
              "      <td>[conscious, hip, hop, 0.611, 0.867, -5.298, 0....</td>\n",
              "    </tr>\n",
              "    <tr>\n",
              "      <th>15</th>\n",
              "      <td>16</td>\n",
              "      <td>marys boy child / oh my lord</td>\n",
              "      <td>Boney M.</td>\n",
              "      <td>disco</td>\n",
              "      <td>10-11-2017</td>\n",
              "      <td>disco 0.781 0.718 -8.722 0 1 241427</td>\n",
              "      <td>[disco, 0.781, 0.718, -8.722, 0, 1, 241427]</td>\n",
              "    </tr>\n",
              "    <tr>\n",
              "      <th>16</th>\n",
              "      <td>17</td>\n",
              "      <td>eleven</td>\n",
              "      <td>Khalid - Summer Walker</td>\n",
              "      <td>alternative r&amp;b</td>\n",
              "      <td>01-05-2020</td>\n",
              "      <td>alternative r&amp;b 0.679 0.408 -9.754 0.00455 0 2...</td>\n",
              "      <td>[alternative, r&amp;b, 0.679, 0.408, -9.754, 0.004...</td>\n",
              "    </tr>\n",
              "    <tr>\n",
              "      <th>17</th>\n",
              "      <td>18</td>\n",
              "      <td>to die for</td>\n",
              "      <td>Sam Smith</td>\n",
              "      <td>pop</td>\n",
              "      <td>14-02-2020</td>\n",
              "      <td>pop 0.483 0.361 -7.889 4.66E-06 1 193795</td>\n",
              "      <td>[pop, 0.483, 0.361, -7.889, 4.66E-06, 1, 193795]</td>\n",
              "    </tr>\n",
              "    <tr>\n",
              "      <th>18</th>\n",
              "      <td>19</td>\n",
              "      <td>wir ticken</td>\n",
              "      <td>Capital Bra - Samra</td>\n",
              "      <td>german hip hop</td>\n",
              "      <td>15-03-2019</td>\n",
              "      <td>german hip hop 0.63 0.692 -4.951 0 0 203067</td>\n",
              "      <td>[german, hip, hop, 0.63, 0.692, -4.951, 0, 0, ...</td>\n",
              "    </tr>\n",
              "    <tr>\n",
              "      <th>19</th>\n",
              "      <td>20</td>\n",
              "      <td>momentz</td>\n",
              "      <td>Gorillaz - De La Soul</td>\n",
              "      <td>alternative hip hop</td>\n",
              "      <td>28-04-2017</td>\n",
              "      <td>alternative hip hop 0.781 0.98 -5.077 2.74E-06...</td>\n",
              "      <td>[alternative, hip, hop, 0.781, 0.98, -5.077, 2...</td>\n",
              "    </tr>\n",
              "    <tr>\n",
              "      <th>20</th>\n",
              "      <td>21</td>\n",
              "      <td>trivia 起 : just dance</td>\n",
              "      <td>BTS</td>\n",
              "      <td>k-pop</td>\n",
              "      <td>24-08-2018</td>\n",
              "      <td>k-pop 0.723 0.906 -4.778 0 0 225221</td>\n",
              "      <td>[k-pop, 0.723, 0.906, -4.778, 0, 0, 225221]</td>\n",
              "    </tr>\n",
              "    <tr>\n",
              "      <th>21</th>\n",
              "      <td>22</td>\n",
              "      <td>juju on that beat</td>\n",
              "      <td>Zay Hilfigerrr - Zayion McCall</td>\n",
              "      <td></td>\n",
              "      <td>30-09-2016</td>\n",
              "      <td>0.807 0.887 -3.892 0 1 144244</td>\n",
              "      <td>[, , 0.807, 0.887, -3.892, 0, 1, 144244]</td>\n",
              "    </tr>\n",
              "    <tr>\n",
              "      <th>22</th>\n",
              "      <td>23</td>\n",
              "      <td>graveyard</td>\n",
              "      <td>Halsey</td>\n",
              "      <td>dance pop</td>\n",
              "      <td>17-01-2020</td>\n",
              "      <td>dance pop 0.667 0.583 -5.127 4.48E-05 0 181806</td>\n",
              "      <td>[dance, pop, 0.667, 0.583, -5.127, 4.48E-05, 0...</td>\n",
              "    </tr>\n",
              "    <tr>\n",
              "      <th>23</th>\n",
              "      <td>24</td>\n",
              "      <td>love it if we made it</td>\n",
              "      <td>The 1975</td>\n",
              "      <td>modern alternative rock</td>\n",
              "      <td>19-07-2018</td>\n",
              "      <td>modern alternative rock 0.479 0.727 -5.369 1.9...</td>\n",
              "      <td>[modern, alternative, rock, 0.479, 0.727, -5.3...</td>\n",
              "    </tr>\n",
              "    <tr>\n",
              "      <th>24</th>\n",
              "      <td>25</td>\n",
              "      <td>physical</td>\n",
              "      <td>Dua Lipa</td>\n",
              "      <td>dance pop</td>\n",
              "      <td>27-03-2020</td>\n",
              "      <td>dance pop 0.647 0.844 -3.756 0.000658 1 193829</td>\n",
              "      <td>[dance, pop, 0.647, 0.844, -3.756, 0.000658, 1...</td>\n",
              "    </tr>\n",
              "    <tr>\n",
              "      <th>25</th>\n",
              "      <td>26</td>\n",
              "      <td>split/whole time</td>\n",
              "      <td>Lil Yachty</td>\n",
              "      <td>atl hip hop</td>\n",
              "      <td>29-05-2020</td>\n",
              "      <td>atl hip hop 0.667 0.489 -8.772 0 0 239314</td>\n",
              "      <td>[atl, hip, hop, 0.667, 0.489, -8.772, 0, 0, 23...</td>\n",
              "    </tr>\n",
              "    <tr>\n",
              "      <th>26</th>\n",
              "      <td>27</td>\n",
              "      <td>use me</td>\n",
              "      <td>Future</td>\n",
              "      <td>atl hip hop</td>\n",
              "      <td>04-08-2017</td>\n",
              "      <td>atl hip hop 0.573 0.538 -5.462 0 0 256343</td>\n",
              "      <td>[atl, hip, hop, 0.573, 0.538, -5.462, 0, 0, 25...</td>\n",
              "    </tr>\n",
              "    <tr>\n",
              "      <th>27</th>\n",
              "      <td>28</td>\n",
              "      <td>hoje eu vou parar na gaiola</td>\n",
              "      <td>Mc Livinho - Rennan da Penha</td>\n",
              "      <td>brazilian edm</td>\n",
              "      <td>17-10-2018</td>\n",
              "      <td>brazilian edm 0.65 0.361 -7.153 0 1 177094</td>\n",
              "      <td>[brazilian, edm, 0.65, 0.361, -7.153, 0, 1, 17...</td>\n",
              "    </tr>\n",
              "    <tr>\n",
              "      <th>28</th>\n",
              "      <td>29</td>\n",
              "      <td>nights with you</td>\n",
              "      <td>MØ</td>\n",
              "      <td>dance pop</td>\n",
              "      <td>21-04-2017</td>\n",
              "      <td>dance pop 0.763 0.671 -4.029 1.16E-05 0 197495</td>\n",
              "      <td>[dance, pop, 0.763, 0.671, -4.029, 1.16E-05, 0...</td>\n",
              "    </tr>\n",
              "    <tr>\n",
              "      <th>29</th>\n",
              "      <td>30</td>\n",
              "      <td>hops</td>\n",
              "      <td>MERO</td>\n",
              "      <td>german hip hop</td>\n",
              "      <td>15-03-2019</td>\n",
              "      <td>german hip hop 0.854 0.623 -8.854 0 0 154427</td>\n",
              "      <td>[german, hip, hop, 0.854, 0.623, -8.854, 0, 0,...</td>\n",
              "    </tr>\n",
              "    <tr>\n",
              "      <th>30</th>\n",
              "      <td>31</td>\n",
              "      <td>living proof</td>\n",
              "      <td>Camila Cabello</td>\n",
              "      <td>dance pop</td>\n",
              "      <td>15-11-2019</td>\n",
              "      <td>dance pop 0.735 0.514 -5.464 0 1 194440</td>\n",
              "      <td>[dance, pop, 0.735, 0.514, -5.464, 0, 1, 194440]</td>\n",
              "    </tr>\n",
              "    <tr>\n",
              "      <th>31</th>\n",
              "      <td>32</td>\n",
              "      <td>shed a light</td>\n",
              "      <td>Robin Schulz - David Guetta - Cheat Codes</td>\n",
              "      <td>dance pop</td>\n",
              "      <td>25-11-2016</td>\n",
              "      <td>dance pop 0.483 0.787 -5.244 0 1 191379</td>\n",
              "      <td>[dance, pop, 0.483, 0.787, -5.244, 0, 1, 191379]</td>\n",
              "    </tr>\n",
              "    <tr>\n",
              "      <th>32</th>\n",
              "      <td>33</td>\n",
              "      <td>borderline</td>\n",
              "      <td>Tame Impala</td>\n",
              "      <td>australian psych</td>\n",
              "      <td>12-04-2019</td>\n",
              "      <td>australian psych 0.598 0.71 -6.839 1.77E-05 0 ...</td>\n",
              "      <td>[australian, psych, 0.598, 0.71, -6.839, 1.77E...</td>\n",
              "    </tr>\n",
              "    <tr>\n",
              "      <th>33</th>\n",
              "      <td>34</td>\n",
              "      <td>do you remember</td>\n",
              "      <td>Chance the Rapper - Death Cab for Cutie</td>\n",
              "      <td>chicago rap</td>\n",
              "      <td>26-07-2019</td>\n",
              "      <td>chicago rap 0.606 0.655 -6.328 0 1 236686</td>\n",
              "      <td>[chicago, rap, 0.606, 0.655, -6.328, 0, 1, 236...</td>\n",
              "    </tr>\n",
              "    <tr>\n",
              "      <th>34</th>\n",
              "      <td>35</td>\n",
              "      <td>u deserve it</td>\n",
              "      <td>Trippie Redd - Chris King - Quan'ta</td>\n",
              "      <td>melodic rap</td>\n",
              "      <td>22-11-2019</td>\n",
              "      <td>melodic rap 0.817 0.509 -7.287 4.28E-06 1 244601</td>\n",
              "      <td>[melodic, rap, 0.817, 0.509, -7.287, 4.28E-06,...</td>\n",
              "    </tr>\n",
              "    <tr>\n",
              "      <th>35</th>\n",
              "      <td>36</td>\n",
              "      <td>we both know</td>\n",
              "      <td>Bryson Tiller</td>\n",
              "      <td>kentucky hip hop</td>\n",
              "      <td>26-05-2017</td>\n",
              "      <td>kentucky hip hop 0.917 0.392 -5.108 0.000156 0...</td>\n",
              "      <td>[kentucky, hip, hop, 0.917, 0.392, -5.108, 0.0...</td>\n",
              "    </tr>\n",
              "    <tr>\n",
              "      <th>36</th>\n",
              "      <td>37</td>\n",
              "      <td>hey ma  - spanish version</td>\n",
              "      <td>Pitbull - J Balvin - Camila Cabello</td>\n",
              "      <td>dance pop</td>\n",
              "      <td>09-03-2017</td>\n",
              "      <td>dance pop 0.489 0.962 -2.597 6.18E-06 1 194942</td>\n",
              "      <td>[dance, pop, 0.489, 0.962, -2.597, 6.18E-06, 1...</td>\n",
              "    </tr>\n",
              "    <tr>\n",
              "      <th>37</th>\n",
              "      <td>38</td>\n",
              "      <td>roaring 20s</td>\n",
              "      <td>Panic! At The Disco</td>\n",
              "      <td>baroque pop</td>\n",
              "      <td>22-06-2018</td>\n",
              "      <td>baroque pop 0.271 0.948 -2.207 0 1 186600</td>\n",
              "      <td>[baroque, pop, 0.271, 0.948, -2.207, 0, 1, 186...</td>\n",
              "    </tr>\n",
              "    <tr>\n",
              "      <th>38</th>\n",
              "      <td>39</td>\n",
              "      <td>como antes</td>\n",
              "      <td>Yandel - Wisin</td>\n",
              "      <td>latin</td>\n",
              "      <td>08-09-2017</td>\n",
              "      <td>latin 0.813 0.876 -4.278 0 0 210773</td>\n",
              "      <td>[latin, 0.813, 0.876, -4.278, 0, 0, 210773]</td>\n",
              "    </tr>\n",
              "    <tr>\n",
              "      <th>39</th>\n",
              "      <td>40</td>\n",
              "      <td>ball for me</td>\n",
              "      <td>Post Malone - Nicki Minaj</td>\n",
              "      <td>dfw rap</td>\n",
              "      <td>27-04-2018</td>\n",
              "      <td>dfw rap 0.797 0.55 -4.166 0 1 206267</td>\n",
              "      <td>[dfw, rap, 0.797, 0.55, -4.166, 0, 1, 206267]</td>\n",
              "    </tr>\n",
              "    <tr>\n",
              "      <th>40</th>\n",
              "      <td>41</td>\n",
              "      <td>hunger</td>\n",
              "      <td>Florence + The Machine</td>\n",
              "      <td>art pop</td>\n",
              "      <td>29-06-2018</td>\n",
              "      <td>art pop 0.729 0.675 -5.62 0 0 214667</td>\n",
              "      <td>[art, pop, 0.729, 0.675, -5.62, 0, 0, 214667]</td>\n",
              "    </tr>\n",
              "    <tr>\n",
              "      <th>41</th>\n",
              "      <td>42</td>\n",
              "      <td>run</td>\n",
              "      <td>Joji</td>\n",
              "      <td>alternative r&amp;b</td>\n",
              "      <td>24-09-2020</td>\n",
              "      <td>alternative r&amp;b 0.448 0.72 -3.954 0.000292 1 1...</td>\n",
              "      <td>[alternative, r&amp;b, 0.448, 0.72, -3.954, 0.0002...</td>\n",
              "    </tr>\n",
              "    <tr>\n",
              "      <th>42</th>\n",
              "      <td>43</td>\n",
              "      <td>how do you sleep?</td>\n",
              "      <td>Sam Smith</td>\n",
              "      <td>pop</td>\n",
              "      <td>30-10-2020</td>\n",
              "      <td>pop 0.561 0.685 -4.891 0 0 202205</td>\n",
              "      <td>[pop, 0.561, 0.685, -4.891, 0, 0, 202205]</td>\n",
              "    </tr>\n",
              "    <tr>\n",
              "      <th>43</th>\n",
              "      <td>44</td>\n",
              "      <td>celsius</td>\n",
              "      <td>PNL</td>\n",
              "      <td>french hip hop</td>\n",
              "      <td>05-04-2019</td>\n",
              "      <td>french hip hop 0.808 0.709 -7.298 0.00376 0 24...</td>\n",
              "      <td>[french, hip, hop, 0.808, 0.709, -7.298, 0.003...</td>\n",
              "    </tr>\n",
              "    <tr>\n",
              "      <th>44</th>\n",
              "      <td>45</td>\n",
              "      <td>refugee</td>\n",
              "      <td>Tom Petty and the Heartbreakers</td>\n",
              "      <td>album rock</td>\n",
              "      <td>19-10-1979</td>\n",
              "      <td>album rock 0.579 0.705 -4.911 0 0 201693</td>\n",
              "      <td>[album, rock, 0.579, 0.705, -4.911, 0, 0, 201693]</td>\n",
              "    </tr>\n",
              "    <tr>\n",
              "      <th>45</th>\n",
              "      <td>46</td>\n",
              "      <td>workin me</td>\n",
              "      <td>Quavo</td>\n",
              "      <td>atl hip hop</td>\n",
              "      <td>10-08-2018</td>\n",
              "      <td>atl hip hop 0.79 0.629 -4.055 7.06E-06 1 169620</td>\n",
              "      <td>[atl, hip, hop, 0.79, 0.629, -4.055, 7.06E-06,...</td>\n",
              "    </tr>\n",
              "    <tr>\n",
              "      <th>46</th>\n",
              "      <td>47</td>\n",
              "      <td>business is business</td>\n",
              "      <td>Lil Baby - Gunna</td>\n",
              "      <td>atl hip hop</td>\n",
              "      <td>05-10-2018</td>\n",
              "      <td>atl hip hop 0.821 0.636 -6.038 0 0 162268</td>\n",
              "      <td>[atl, hip, hop, 0.821, 0.636, -6.038, 0, 0, 16...</td>\n",
              "    </tr>\n",
              "    <tr>\n",
              "      <th>47</th>\n",
              "      <td>48</td>\n",
              "      <td>baby, you make me crazy</td>\n",
              "      <td>Sam Smith</td>\n",
              "      <td>pop</td>\n",
              "      <td>03-11-2017</td>\n",
              "      <td>pop 0.513 0.648 -7.714 4.87E-05 0 207966</td>\n",
              "      <td>[pop, 0.513, 0.648, -7.714, 4.87E-05, 0, 207966]</td>\n",
              "    </tr>\n",
              "    <tr>\n",
              "      <th>48</th>\n",
              "      <td>49</td>\n",
              "      <td>qualcosa in cui credere - lo scheletro</td>\n",
              "      <td>Marracash - Guè Pequeno</td>\n",
              "      <td>italian hip hop</td>\n",
              "      <td>31-10-2019</td>\n",
              "      <td>italian hip hop 0.646 0.874 -4.313 0 1 212316</td>\n",
              "      <td>[italian, hip, hop, 0.646, 0.874, -4.313, 0, 1...</td>\n",
              "    </tr>\n",
              "    <tr>\n",
              "      <th>49</th>\n",
              "      <td>50</td>\n",
              "      <td>the next best american record</td>\n",
              "      <td>Lana Del Rey</td>\n",
              "      <td>art pop</td>\n",
              "      <td>30-08-2019</td>\n",
              "      <td>art pop 0.387 0.352 -9.77 3.81E-05 1 349347</td>\n",
              "      <td>[art, pop, 0.387, 0.352, -9.77, 3.81E-05, 1, 3...</td>\n",
              "    </tr>\n",
              "  </tbody>\n",
              "</table>\n",
              "</div>\n",
              "      <button class=\"colab-df-convert\" onclick=\"convertToInteractive('df-a43856bf-07fa-4388-8f56-8f355df68283')\"\n",
              "              title=\"Convert this dataframe to an interactive table.\"\n",
              "              style=\"display:none;\">\n",
              "        \n",
              "  <svg xmlns=\"http://www.w3.org/2000/svg\" height=\"24px\"viewBox=\"0 0 24 24\"\n",
              "       width=\"24px\">\n",
              "    <path d=\"M0 0h24v24H0V0z\" fill=\"none\"/>\n",
              "    <path d=\"M18.56 5.44l.94 2.06.94-2.06 2.06-.94-2.06-.94-.94-2.06-.94 2.06-2.06.94zm-11 1L8.5 8.5l.94-2.06 2.06-.94-2.06-.94L8.5 2.5l-.94 2.06-2.06.94zm10 10l.94 2.06.94-2.06 2.06-.94-2.06-.94-.94-2.06-.94 2.06-2.06.94z\"/><path d=\"M17.41 7.96l-1.37-1.37c-.4-.4-.92-.59-1.43-.59-.52 0-1.04.2-1.43.59L10.3 9.45l-7.72 7.72c-.78.78-.78 2.05 0 2.83L4 21.41c.39.39.9.59 1.41.59.51 0 1.02-.2 1.41-.59l7.78-7.78 2.81-2.81c.8-.78.8-2.07 0-2.86zM5.41 20L4 18.59l7.72-7.72 1.47 1.35L5.41 20z\"/>\n",
              "  </svg>\n",
              "      </button>\n",
              "      \n",
              "  <style>\n",
              "    .colab-df-container {\n",
              "      display:flex;\n",
              "      flex-wrap:wrap;\n",
              "      gap: 12px;\n",
              "    }\n",
              "\n",
              "    .colab-df-convert {\n",
              "      background-color: #E8F0FE;\n",
              "      border: none;\n",
              "      border-radius: 50%;\n",
              "      cursor: pointer;\n",
              "      display: none;\n",
              "      fill: #1967D2;\n",
              "      height: 32px;\n",
              "      padding: 0 0 0 0;\n",
              "      width: 32px;\n",
              "    }\n",
              "\n",
              "    .colab-df-convert:hover {\n",
              "      background-color: #E2EBFA;\n",
              "      box-shadow: 0px 1px 2px rgba(60, 64, 67, 0.3), 0px 1px 3px 1px rgba(60, 64, 67, 0.15);\n",
              "      fill: #174EA6;\n",
              "    }\n",
              "\n",
              "    [theme=dark] .colab-df-convert {\n",
              "      background-color: #3B4455;\n",
              "      fill: #D2E3FC;\n",
              "    }\n",
              "\n",
              "    [theme=dark] .colab-df-convert:hover {\n",
              "      background-color: #434B5C;\n",
              "      box-shadow: 0px 1px 3px 1px rgba(0, 0, 0, 0.15);\n",
              "      filter: drop-shadow(0px 1px 2px rgba(0, 0, 0, 0.3));\n",
              "      fill: #FFFFFF;\n",
              "    }\n",
              "  </style>\n",
              "\n",
              "      <script>\n",
              "        const buttonEl =\n",
              "          document.querySelector('#df-a43856bf-07fa-4388-8f56-8f355df68283 button.colab-df-convert');\n",
              "        buttonEl.style.display =\n",
              "          google.colab.kernel.accessAllowed ? 'block' : 'none';\n",
              "\n",
              "        async function convertToInteractive(key) {\n",
              "          const element = document.querySelector('#df-a43856bf-07fa-4388-8f56-8f355df68283');\n",
              "          const dataTable =\n",
              "            await google.colab.kernel.invokeFunction('convertToInteractive',\n",
              "                                                     [key], {});\n",
              "          if (!dataTable) return;\n",
              "\n",
              "          const docLinkHtml = 'Like what you see? Visit the ' +\n",
              "            '<a target=\"_blank\" href=https://colab.research.google.com/notebooks/data_table.ipynb>data table notebook</a>'\n",
              "            + ' to learn more about interactive tables.';\n",
              "          element.innerHTML = '';\n",
              "          dataTable['output_type'] = 'display_data';\n",
              "          await google.colab.output.renderOutput(dataTable, element);\n",
              "          const docLink = document.createElement('div');\n",
              "          docLink.innerHTML = docLinkHtml;\n",
              "          element.appendChild(docLink);\n",
              "        }\n",
              "      </script>\n",
              "    </div>\n",
              "  </div>\n",
              "  "
            ],
            "text/plain": [
              "    Index  ...                                            feature\n",
              "0       1  ...  [argentine, hip, hop, 0.767, 0.709, -4.47, 0, ...\n",
              "1       2  ...  [dance, pop, 0.572, 0.53, -8.521, 0.000169, 0,...\n",
              "2       3  ...   [dance, pop, 0.488, 0.538, -4.974, 0, 1, 205600]\n",
              "3       4  ...  [alternative, metal, 0.515, 0.917, -7.312, 0.0...\n",
              "4       5  ...  [alternative, metal, 0.593, 0.712, -6.325, 0, ...\n",
              "5       6  ...  [conscious, hip, hop, 0.827, 0.522, -4.866, 1....\n",
              "6       7  ...  [canadian, hip, hop, 0.338, 0.729, -6.419, 3.2...\n",
              "7       8  ...   [dance, pop, 0.578, 0.574, -6.209, 0, 1, 261240]\n",
              "8       9  ...  [argentine, indie, 0.602, 0.751, -4.358, 0, 1,...\n",
              "9      10  ...   [dance, pop, 0.669, 0.801, -5.445, 0, 1, 201072]\n",
              "10     11  ...     [emo, rap, 0.821, 0.434, -9.194, 0, 0, 187173]\n",
              "11     12  ...  [sertanejo, pop, 0.591, 0.757, -3.322, 0, 1, 2...\n",
              "12     13  ...  [chicago, rap, 0.733, 0.678, -7.771, 0, 1, 144...\n",
              "13     14  ...  [atl, hip, hop, 0.582, 0.488, -8.208, 0, 1, 18...\n",
              "14     15  ...  [conscious, hip, hop, 0.611, 0.867, -5.298, 0....\n",
              "15     16  ...        [disco, 0.781, 0.718, -8.722, 0, 1, 241427]\n",
              "16     17  ...  [alternative, r&b, 0.679, 0.408, -9.754, 0.004...\n",
              "17     18  ...   [pop, 0.483, 0.361, -7.889, 4.66E-06, 1, 193795]\n",
              "18     19  ...  [german, hip, hop, 0.63, 0.692, -4.951, 0, 0, ...\n",
              "19     20  ...  [alternative, hip, hop, 0.781, 0.98, -5.077, 2...\n",
              "20     21  ...        [k-pop, 0.723, 0.906, -4.778, 0, 0, 225221]\n",
              "21     22  ...           [, , 0.807, 0.887, -3.892, 0, 1, 144244]\n",
              "22     23  ...  [dance, pop, 0.667, 0.583, -5.127, 4.48E-05, 0...\n",
              "23     24  ...  [modern, alternative, rock, 0.479, 0.727, -5.3...\n",
              "24     25  ...  [dance, pop, 0.647, 0.844, -3.756, 0.000658, 1...\n",
              "25     26  ...  [atl, hip, hop, 0.667, 0.489, -8.772, 0, 0, 23...\n",
              "26     27  ...  [atl, hip, hop, 0.573, 0.538, -5.462, 0, 0, 25...\n",
              "27     28  ...  [brazilian, edm, 0.65, 0.361, -7.153, 0, 1, 17...\n",
              "28     29  ...  [dance, pop, 0.763, 0.671, -4.029, 1.16E-05, 0...\n",
              "29     30  ...  [german, hip, hop, 0.854, 0.623, -8.854, 0, 0,...\n",
              "30     31  ...   [dance, pop, 0.735, 0.514, -5.464, 0, 1, 194440]\n",
              "31     32  ...   [dance, pop, 0.483, 0.787, -5.244, 0, 1, 191379]\n",
              "32     33  ...  [australian, psych, 0.598, 0.71, -6.839, 1.77E...\n",
              "33     34  ...  [chicago, rap, 0.606, 0.655, -6.328, 0, 1, 236...\n",
              "34     35  ...  [melodic, rap, 0.817, 0.509, -7.287, 4.28E-06,...\n",
              "35     36  ...  [kentucky, hip, hop, 0.917, 0.392, -5.108, 0.0...\n",
              "36     37  ...  [dance, pop, 0.489, 0.962, -2.597, 6.18E-06, 1...\n",
              "37     38  ...  [baroque, pop, 0.271, 0.948, -2.207, 0, 1, 186...\n",
              "38     39  ...        [latin, 0.813, 0.876, -4.278, 0, 0, 210773]\n",
              "39     40  ...      [dfw, rap, 0.797, 0.55, -4.166, 0, 1, 206267]\n",
              "40     41  ...      [art, pop, 0.729, 0.675, -5.62, 0, 0, 214667]\n",
              "41     42  ...  [alternative, r&b, 0.448, 0.72, -3.954, 0.0002...\n",
              "42     43  ...          [pop, 0.561, 0.685, -4.891, 0, 0, 202205]\n",
              "43     44  ...  [french, hip, hop, 0.808, 0.709, -7.298, 0.003...\n",
              "44     45  ...  [album, rock, 0.579, 0.705, -4.911, 0, 0, 201693]\n",
              "45     46  ...  [atl, hip, hop, 0.79, 0.629, -4.055, 7.06E-06,...\n",
              "46     47  ...  [atl, hip, hop, 0.821, 0.636, -6.038, 0, 0, 16...\n",
              "47     48  ...   [pop, 0.513, 0.648, -7.714, 4.87E-05, 0, 207966]\n",
              "48     49  ...  [italian, hip, hop, 0.646, 0.874, -4.313, 0, 1...\n",
              "49     50  ...  [art, pop, 0.387, 0.352, -9.77, 3.81E-05, 1, 3...\n",
              "\n",
              "[50 rows x 7 columns]"
            ]
          },
          "metadata": {},
          "execution_count": 244
        }
      ]
    },
    {
      "cell_type": "code",
      "source": [
        "from pyspark.ml.feature import CountVectorizer\n",
        "cv = CountVectorizer(inputCol=\"feature\", outputCol=\"vector\")\n",
        "model = cv.fit(r_df)\n",
        "result = model.transform(r_df)\n",
        "\n",
        "c_matrix=result.select('Index', 'feature', 'vector')\n",
        "c_matrix.show()"
      ],
      "metadata": {
        "colab": {
          "base_uri": "https://localhost:8080/"
        },
        "id": "lKUqmv3UuIBj",
        "outputId": "aaa238d8-5375-4804-fba6-1d147fabe57f"
      },
      "id": "lKUqmv3UuIBj",
      "execution_count": null,
      "outputs": [
        {
          "output_type": "stream",
          "name": "stdout",
          "text": [
            "+-----+--------------------+--------------------+\n",
            "|Index|             feature|              vector|\n",
            "+-----+--------------------+--------------------+\n",
            "|    1|[argentine, hip, ...|(11185,[0,1,3,4,5...|\n",
            "|    2|[dance, pop, 0.57...|(11185,[0,2,5,182...|\n",
            "|    3|[dance, pop, 0.48...|(11185,[0,1,2,5,3...|\n",
            "|    4|[alternative, met...|(11185,[1,10,30,3...|\n",
            "|    5|[alternative, met...|(11185,[0,10,30,5...|\n",
            "|    6|[conscious, hip, ...|(11185,[1,3,4,16,...|\n",
            "|    7|[canadian, hip, h...|(11185,[0,3,4,9,8...|\n",
            "|    8|[dance, pop, 0.57...|(11185,[0,1,2,5,1...|\n",
            "|    9|[argentine, indie...|(11185,[0,1,52,15...|\n",
            "|   10|[dance, pop, 0.66...|(11185,[0,1,2,5,1...|\n",
            "|   11|[emo, rap, 0.821,...|(11185,[0,6,15,29...|\n",
            "|   12|[sertanejo, pop, ...|(11185,[0,1,2,177...|\n",
            "|   13|[chicago, rap, 0....|(11185,[0,1,6,17,...|\n",
            "|   14|[atl, hip, hop, 0...|(11185,[0,1,3,4,7...|\n",
            "|   15|[conscious, hip, ...|(11185,[1,3,4,16,...|\n",
            "|   16|[disco, 0.781, 0....|(11185,[0,1,233,3...|\n",
            "|   17|[alternative, r&b...|(11185,[0,10,14,1...|\n",
            "|   18|[pop, 0.483, 0.36...|(11185,[1,2,493,1...|\n",
            "|   19|[german, hip, hop...|(11185,[0,3,4,11,...|\n",
            "|   20|[alternative, hip...|(11185,[1,3,4,10,...|\n",
            "+-----+--------------------+--------------------+\n",
            "only showing top 20 rows\n",
            "\n"
          ]
        }
      ]
    },
    {
      "cell_type": "code",
      "source": [
        "import pandas as pd\n",
        "\n",
        "pandas_df = c_matrix.toPandas()\n",
        "pandas_df.head()\n"
      ],
      "metadata": {
        "colab": {
          "base_uri": "https://localhost:8080/",
          "height": 206
        },
        "id": "6RdduFW2uzUq",
        "outputId": "4afe3f00-e85c-45f6-f384-389037ba8ecf"
      },
      "id": "6RdduFW2uzUq",
      "execution_count": null,
      "outputs": [
        {
          "output_type": "execute_result",
          "data": {
            "text/html": [
              "\n",
              "  <div id=\"df-a13c717c-ea15-490e-873b-7093052c6838\">\n",
              "    <div class=\"colab-df-container\">\n",
              "      <div>\n",
              "<style scoped>\n",
              "    .dataframe tbody tr th:only-of-type {\n",
              "        vertical-align: middle;\n",
              "    }\n",
              "\n",
              "    .dataframe tbody tr th {\n",
              "        vertical-align: top;\n",
              "    }\n",
              "\n",
              "    .dataframe thead th {\n",
              "        text-align: right;\n",
              "    }\n",
              "</style>\n",
              "<table border=\"1\" class=\"dataframe\">\n",
              "  <thead>\n",
              "    <tr style=\"text-align: right;\">\n",
              "      <th></th>\n",
              "      <th>Index</th>\n",
              "      <th>feature</th>\n",
              "      <th>vector</th>\n",
              "    </tr>\n",
              "  </thead>\n",
              "  <tbody>\n",
              "    <tr>\n",
              "      <th>0</th>\n",
              "      <td>1</td>\n",
              "      <td>[argentine, hip, hop, 0.767, 0.709, -4.47, 0, ...</td>\n",
              "      <td>(1.0, 1.0, 0.0, 1.0, 1.0, 0.0, 0.0, 0.0, 0.0, ...</td>\n",
              "    </tr>\n",
              "    <tr>\n",
              "      <th>1</th>\n",
              "      <td>2</td>\n",
              "      <td>[dance, pop, 0.572, 0.53, -8.521, 0.000169, 0,...</td>\n",
              "      <td>(1.0, 0.0, 1.0, 0.0, 0.0, 1.0, 0.0, 0.0, 0.0, ...</td>\n",
              "    </tr>\n",
              "    <tr>\n",
              "      <th>2</th>\n",
              "      <td>3</td>\n",
              "      <td>[dance, pop, 0.488, 0.538, -4.974, 0, 1, 205600]</td>\n",
              "      <td>(1.0, 1.0, 1.0, 0.0, 0.0, 1.0, 0.0, 0.0, 0.0, ...</td>\n",
              "    </tr>\n",
              "    <tr>\n",
              "      <th>3</th>\n",
              "      <td>4</td>\n",
              "      <td>[alternative, metal, 0.515, 0.917, -7.312, 0.0...</td>\n",
              "      <td>(0.0, 1.0, 0.0, 0.0, 0.0, 0.0, 0.0, 0.0, 0.0, ...</td>\n",
              "    </tr>\n",
              "    <tr>\n",
              "      <th>4</th>\n",
              "      <td>5</td>\n",
              "      <td>[alternative, metal, 0.593, 0.712, -6.325, 0, ...</td>\n",
              "      <td>(2.0, 0.0, 0.0, 0.0, 0.0, 0.0, 0.0, 0.0, 0.0, ...</td>\n",
              "    </tr>\n",
              "  </tbody>\n",
              "</table>\n",
              "</div>\n",
              "      <button class=\"colab-df-convert\" onclick=\"convertToInteractive('df-a13c717c-ea15-490e-873b-7093052c6838')\"\n",
              "              title=\"Convert this dataframe to an interactive table.\"\n",
              "              style=\"display:none;\">\n",
              "        \n",
              "  <svg xmlns=\"http://www.w3.org/2000/svg\" height=\"24px\"viewBox=\"0 0 24 24\"\n",
              "       width=\"24px\">\n",
              "    <path d=\"M0 0h24v24H0V0z\" fill=\"none\"/>\n",
              "    <path d=\"M18.56 5.44l.94 2.06.94-2.06 2.06-.94-2.06-.94-.94-2.06-.94 2.06-2.06.94zm-11 1L8.5 8.5l.94-2.06 2.06-.94-2.06-.94L8.5 2.5l-.94 2.06-2.06.94zm10 10l.94 2.06.94-2.06 2.06-.94-2.06-.94-.94-2.06-.94 2.06-2.06.94z\"/><path d=\"M17.41 7.96l-1.37-1.37c-.4-.4-.92-.59-1.43-.59-.52 0-1.04.2-1.43.59L10.3 9.45l-7.72 7.72c-.78.78-.78 2.05 0 2.83L4 21.41c.39.39.9.59 1.41.59.51 0 1.02-.2 1.41-.59l7.78-7.78 2.81-2.81c.8-.78.8-2.07 0-2.86zM5.41 20L4 18.59l7.72-7.72 1.47 1.35L5.41 20z\"/>\n",
              "  </svg>\n",
              "      </button>\n",
              "      \n",
              "  <style>\n",
              "    .colab-df-container {\n",
              "      display:flex;\n",
              "      flex-wrap:wrap;\n",
              "      gap: 12px;\n",
              "    }\n",
              "\n",
              "    .colab-df-convert {\n",
              "      background-color: #E8F0FE;\n",
              "      border: none;\n",
              "      border-radius: 50%;\n",
              "      cursor: pointer;\n",
              "      display: none;\n",
              "      fill: #1967D2;\n",
              "      height: 32px;\n",
              "      padding: 0 0 0 0;\n",
              "      width: 32px;\n",
              "    }\n",
              "\n",
              "    .colab-df-convert:hover {\n",
              "      background-color: #E2EBFA;\n",
              "      box-shadow: 0px 1px 2px rgba(60, 64, 67, 0.3), 0px 1px 3px 1px rgba(60, 64, 67, 0.15);\n",
              "      fill: #174EA6;\n",
              "    }\n",
              "\n",
              "    [theme=dark] .colab-df-convert {\n",
              "      background-color: #3B4455;\n",
              "      fill: #D2E3FC;\n",
              "    }\n",
              "\n",
              "    [theme=dark] .colab-df-convert:hover {\n",
              "      background-color: #434B5C;\n",
              "      box-shadow: 0px 1px 3px 1px rgba(0, 0, 0, 0.15);\n",
              "      filter: drop-shadow(0px 1px 2px rgba(0, 0, 0, 0.3));\n",
              "      fill: #FFFFFF;\n",
              "    }\n",
              "  </style>\n",
              "\n",
              "      <script>\n",
              "        const buttonEl =\n",
              "          document.querySelector('#df-a13c717c-ea15-490e-873b-7093052c6838 button.colab-df-convert');\n",
              "        buttonEl.style.display =\n",
              "          google.colab.kernel.accessAllowed ? 'block' : 'none';\n",
              "\n",
              "        async function convertToInteractive(key) {\n",
              "          const element = document.querySelector('#df-a13c717c-ea15-490e-873b-7093052c6838');\n",
              "          const dataTable =\n",
              "            await google.colab.kernel.invokeFunction('convertToInteractive',\n",
              "                                                     [key], {});\n",
              "          if (!dataTable) return;\n",
              "\n",
              "          const docLinkHtml = 'Like what you see? Visit the ' +\n",
              "            '<a target=\"_blank\" href=https://colab.research.google.com/notebooks/data_table.ipynb>data table notebook</a>'\n",
              "            + ' to learn more about interactive tables.';\n",
              "          element.innerHTML = '';\n",
              "          dataTable['output_type'] = 'display_data';\n",
              "          await google.colab.output.renderOutput(dataTable, element);\n",
              "          const docLink = document.createElement('div');\n",
              "          docLink.innerHTML = docLinkHtml;\n",
              "          element.appendChild(docLink);\n",
              "        }\n",
              "      </script>\n",
              "    </div>\n",
              "  </div>\n",
              "  "
            ],
            "text/plain": [
              "   Index  ...                                             vector\n",
              "0      1  ...  (1.0, 1.0, 0.0, 1.0, 1.0, 0.0, 0.0, 0.0, 0.0, ...\n",
              "1      2  ...  (1.0, 0.0, 1.0, 0.0, 0.0, 1.0, 0.0, 0.0, 0.0, ...\n",
              "2      3  ...  (1.0, 1.0, 1.0, 0.0, 0.0, 1.0, 0.0, 0.0, 0.0, ...\n",
              "3      4  ...  (0.0, 1.0, 0.0, 0.0, 0.0, 0.0, 0.0, 0.0, 0.0, ...\n",
              "4      5  ...  (2.0, 0.0, 0.0, 0.0, 0.0, 0.0, 0.0, 0.0, 0.0, ...\n",
              "\n",
              "[5 rows x 3 columns]"
            ]
          },
          "metadata": {},
          "execution_count": 246
        }
      ]
    },
    {
      "cell_type": "code",
      "source": [
        "matrix = r_df.select('Index','Title','Genre','Artist','Popularity','Combined_Features')\n",
        "matrix = matrix.toPandas()\n",
        "matrix.head()"
      ],
      "metadata": {
        "colab": {
          "base_uri": "https://localhost:8080/",
          "height": 206
        },
        "id": "lbCk9v1svfG3",
        "outputId": "677648ac-6e38-4bb1-e9b1-687645094c73"
      },
      "id": "lbCk9v1svfG3",
      "execution_count": null,
      "outputs": [
        {
          "output_type": "execute_result",
          "data": {
            "text/html": [
              "\n",
              "  <div id=\"df-2fabf6d4-67c4-445a-b2e5-fe76b9850d06\">\n",
              "    <div class=\"colab-df-container\">\n",
              "      <div>\n",
              "<style scoped>\n",
              "    .dataframe tbody tr th:only-of-type {\n",
              "        vertical-align: middle;\n",
              "    }\n",
              "\n",
              "    .dataframe tbody tr th {\n",
              "        vertical-align: top;\n",
              "    }\n",
              "\n",
              "    .dataframe thead th {\n",
              "        text-align: right;\n",
              "    }\n",
              "</style>\n",
              "<table border=\"1\" class=\"dataframe\">\n",
              "  <thead>\n",
              "    <tr style=\"text-align: right;\">\n",
              "      <th></th>\n",
              "      <th>Index</th>\n",
              "      <th>Title</th>\n",
              "      <th>Genre</th>\n",
              "      <th>Artist</th>\n",
              "      <th>Popularity</th>\n",
              "      <th>Combined_Features</th>\n",
              "    </tr>\n",
              "  </thead>\n",
              "  <tbody>\n",
              "    <tr>\n",
              "      <th>0</th>\n",
              "      <td>1</td>\n",
              "      <td>adan y eva</td>\n",
              "      <td>argentine hip hop</td>\n",
              "      <td>Paulo Londra</td>\n",
              "      <td>31833.95</td>\n",
              "      <td>argentine hip hop 0.767 0.709 -4.47 0 1 258639</td>\n",
              "    </tr>\n",
              "    <tr>\n",
              "      <th>1</th>\n",
              "      <td>2</td>\n",
              "      <td>it wont kill ya</td>\n",
              "      <td>dance pop</td>\n",
              "      <td>The Chainsmokers - Louane</td>\n",
              "      <td>418</td>\n",
              "      <td>dance pop 0.572 0.53 -8.521 0.000169 0 217613</td>\n",
              "    </tr>\n",
              "    <tr>\n",
              "      <th>2</th>\n",
              "      <td>3</td>\n",
              "      <td>hymn</td>\n",
              "      <td>dance pop</td>\n",
              "      <td>Kesha</td>\n",
              "      <td>56</td>\n",
              "      <td>dance pop 0.488 0.538 -4.974 0 1 205600</td>\n",
              "    </tr>\n",
              "    <tr>\n",
              "      <th>3</th>\n",
              "      <td>4</td>\n",
              "      <td>arrows</td>\n",
              "      <td>alternative metal</td>\n",
              "      <td>Foo Fighters</td>\n",
              "      <td>78.4</td>\n",
              "      <td>alternative metal 0.515 0.917 -7.312 0.000476 ...</td>\n",
              "    </tr>\n",
              "    <tr>\n",
              "      <th>4</th>\n",
              "      <td>5</td>\n",
              "      <td>talking to myself</td>\n",
              "      <td>alternative metal</td>\n",
              "      <td>Linkin Park</td>\n",
              "      <td>244.95</td>\n",
              "      <td>alternative metal 0.593 0.712 -6.325 0 0 231307</td>\n",
              "    </tr>\n",
              "  </tbody>\n",
              "</table>\n",
              "</div>\n",
              "      <button class=\"colab-df-convert\" onclick=\"convertToInteractive('df-2fabf6d4-67c4-445a-b2e5-fe76b9850d06')\"\n",
              "              title=\"Convert this dataframe to an interactive table.\"\n",
              "              style=\"display:none;\">\n",
              "        \n",
              "  <svg xmlns=\"http://www.w3.org/2000/svg\" height=\"24px\"viewBox=\"0 0 24 24\"\n",
              "       width=\"24px\">\n",
              "    <path d=\"M0 0h24v24H0V0z\" fill=\"none\"/>\n",
              "    <path d=\"M18.56 5.44l.94 2.06.94-2.06 2.06-.94-2.06-.94-.94-2.06-.94 2.06-2.06.94zm-11 1L8.5 8.5l.94-2.06 2.06-.94-2.06-.94L8.5 2.5l-.94 2.06-2.06.94zm10 10l.94 2.06.94-2.06 2.06-.94-2.06-.94-.94-2.06-.94 2.06-2.06.94z\"/><path d=\"M17.41 7.96l-1.37-1.37c-.4-.4-.92-.59-1.43-.59-.52 0-1.04.2-1.43.59L10.3 9.45l-7.72 7.72c-.78.78-.78 2.05 0 2.83L4 21.41c.39.39.9.59 1.41.59.51 0 1.02-.2 1.41-.59l7.78-7.78 2.81-2.81c.8-.78.8-2.07 0-2.86zM5.41 20L4 18.59l7.72-7.72 1.47 1.35L5.41 20z\"/>\n",
              "  </svg>\n",
              "      </button>\n",
              "      \n",
              "  <style>\n",
              "    .colab-df-container {\n",
              "      display:flex;\n",
              "      flex-wrap:wrap;\n",
              "      gap: 12px;\n",
              "    }\n",
              "\n",
              "    .colab-df-convert {\n",
              "      background-color: #E8F0FE;\n",
              "      border: none;\n",
              "      border-radius: 50%;\n",
              "      cursor: pointer;\n",
              "      display: none;\n",
              "      fill: #1967D2;\n",
              "      height: 32px;\n",
              "      padding: 0 0 0 0;\n",
              "      width: 32px;\n",
              "    }\n",
              "\n",
              "    .colab-df-convert:hover {\n",
              "      background-color: #E2EBFA;\n",
              "      box-shadow: 0px 1px 2px rgba(60, 64, 67, 0.3), 0px 1px 3px 1px rgba(60, 64, 67, 0.15);\n",
              "      fill: #174EA6;\n",
              "    }\n",
              "\n",
              "    [theme=dark] .colab-df-convert {\n",
              "      background-color: #3B4455;\n",
              "      fill: #D2E3FC;\n",
              "    }\n",
              "\n",
              "    [theme=dark] .colab-df-convert:hover {\n",
              "      background-color: #434B5C;\n",
              "      box-shadow: 0px 1px 3px 1px rgba(0, 0, 0, 0.15);\n",
              "      filter: drop-shadow(0px 1px 2px rgba(0, 0, 0, 0.3));\n",
              "      fill: #FFFFFF;\n",
              "    }\n",
              "  </style>\n",
              "\n",
              "      <script>\n",
              "        const buttonEl =\n",
              "          document.querySelector('#df-2fabf6d4-67c4-445a-b2e5-fe76b9850d06 button.colab-df-convert');\n",
              "        buttonEl.style.display =\n",
              "          google.colab.kernel.accessAllowed ? 'block' : 'none';\n",
              "\n",
              "        async function convertToInteractive(key) {\n",
              "          const element = document.querySelector('#df-2fabf6d4-67c4-445a-b2e5-fe76b9850d06');\n",
              "          const dataTable =\n",
              "            await google.colab.kernel.invokeFunction('convertToInteractive',\n",
              "                                                     [key], {});\n",
              "          if (!dataTable) return;\n",
              "\n",
              "          const docLinkHtml = 'Like what you see? Visit the ' +\n",
              "            '<a target=\"_blank\" href=https://colab.research.google.com/notebooks/data_table.ipynb>data table notebook</a>'\n",
              "            + ' to learn more about interactive tables.';\n",
              "          element.innerHTML = '';\n",
              "          dataTable['output_type'] = 'display_data';\n",
              "          await google.colab.output.renderOutput(dataTable, element);\n",
              "          const docLink = document.createElement('div');\n",
              "          docLink.innerHTML = docLinkHtml;\n",
              "          element.appendChild(docLink);\n",
              "        }\n",
              "      </script>\n",
              "    </div>\n",
              "  </div>\n",
              "  "
            ],
            "text/plain": [
              "   Index  ...                                  Combined_Features\n",
              "0      1  ...     argentine hip hop 0.767 0.709 -4.47 0 1 258639\n",
              "1      2  ...      dance pop 0.572 0.53 -8.521 0.000169 0 217613\n",
              "2      3  ...            dance pop 0.488 0.538 -4.974 0 1 205600\n",
              "3      4  ...  alternative metal 0.515 0.917 -7.312 0.000476 ...\n",
              "4      5  ...    alternative metal 0.593 0.712 -6.325 0 0 231307\n",
              "\n",
              "[5 rows x 6 columns]"
            ]
          },
          "metadata": {},
          "execution_count": 247
        }
      ]
    },
    {
      "cell_type": "code",
      "source": [
        "from sklearn.feature_extraction.text import CountVectorizer\n",
        "cv = CountVectorizer()\n",
        "count_matrix = cv.fit_transform(matrix[\"Combined_Features\"])\n",
        "print(\"Count Matrix:\", count_matrix.toarray())"
      ],
      "metadata": {
        "colab": {
          "base_uri": "https://localhost:8080/"
        },
        "id": "FHq4WFtWvwmF",
        "outputId": "2051aafc-2a66-4a98-8821-82f9b57fa3be"
      },
      "id": "FHq4WFtWvwmF",
      "execution_count": null,
      "outputs": [
        {
          "output_type": "stream",
          "name": "stdout",
          "text": [
            "Count Matrix: [[0 0 0 ... 0 0 0]\n",
            " [0 0 0 ... 0 0 0]\n",
            " [0 0 0 ... 0 0 0]\n",
            " ...\n",
            " [0 0 0 ... 0 0 0]\n",
            " [0 0 0 ... 0 0 0]\n",
            " [0 0 0 ... 0 0 0]]\n"
          ]
        }
      ]
    },
    {
      "cell_type": "code",
      "source": [
        "from sklearn.metrics.pairwise import cosine_similarity\n",
        "cosine_sim = cosine_similarity(count_matrix)"
      ],
      "metadata": {
        "id": "ZMcKsTMHv4_R"
      },
      "id": "ZMcKsTMHv4_R",
      "execution_count": null,
      "outputs": []
    },
    {
      "cell_type": "code",
      "source": [
        "song_user_likes = \"vida de rico\"\n",
        "def get_index_from_title(title):\n",
        "    return matrix[matrix.Title == title][\"Index\"].values[0]\n",
        "song_index = get_index_from_title(song_user_likes)\n",
        "print(song_index)"
      ],
      "metadata": {
        "colab": {
          "base_uri": "https://localhost:8080/"
        },
        "id": "HWsubrApv83f",
        "outputId": "47d63558-7739-49e0-ace0-3dd1519f6af1"
      },
      "id": "HWsubrApv83f",
      "execution_count": null,
      "outputs": [
        {
          "output_type": "stream",
          "name": "stdout",
          "text": [
            "562\n"
          ]
        }
      ]
    },
    {
      "cell_type": "code",
      "source": [
        "songs_similar = list(enumerate(cosine_sim[song_index]))\n",
        "sorted_similar_songs = sorted(songs_similar, key=lambda x:x[1], reverse=True)\n",
        "def get_title_from_index(index):\n",
        "    return matrix[matrix.Index == index][\"Title\"].values[0]\n",
        "i=0\n",
        "for songs in sorted_similar_songs:\n",
        "    print(get_title_from_index(songs[0]))\n",
        "    i+=1\n",
        "    if i>20:\n",
        "        break"
      ],
      "metadata": {
        "colab": {
          "base_uri": "https://localhost:8080/"
        },
        "id": "DXeO49HXw3zm",
        "outputId": "21c09b84-1b47-4437-90f9-d8e08a6eeb8d"
      },
      "id": "DXeO49HXw3zm",
      "execution_count": null,
      "outputs": [
        {
          "output_type": "stream",
          "name": "stdout",
          "text": [
            "vida de rico\n",
            "no more\n",
            "more than you know\n",
            "stay high\n",
            "like you do\n",
            "sixteen\n",
            "keanu reeves\n",
            "sex mit dir\n",
            "outnumbered\n",
            "jolie nana\n",
            "mood swings\n",
            "the reaper\n",
            "crazy in love\n",
            "fly\n",
            "gooba\n",
            "never be like you\n",
            "ready\n",
            "im ready for you\n",
            "love hurts\n",
            "if you know you know\n",
            "no longer friends\n"
          ]
        }
      ]
    },
    {
      "cell_type": "code",
      "source": [
        ""
      ],
      "metadata": {
        "id": "y0pmYGrww-gn"
      },
      "id": "y0pmYGrww-gn",
      "execution_count": null,
      "outputs": []
    }
  ],
  "metadata": {
    "kernelspec": {
      "display_name": "Python 3",
      "language": "python",
      "name": "python3"
    },
    "language_info": {
      "codemirror_mode": {
        "name": "ipython",
        "version": 3
      },
      "file_extension": ".py",
      "mimetype": "text/x-python",
      "name": "python",
      "nbconvert_exporter": "python",
      "pygments_lexer": "ipython3",
      "version": "3.7.1"
    },
    "colab": {
      "name": "Song_Analysis_And_Recommendation .ipynb",
      "provenance": [],
      "collapsed_sections": [],
      "include_colab_link": true
    }
  },
  "nbformat": 4,
  "nbformat_minor": 5
}